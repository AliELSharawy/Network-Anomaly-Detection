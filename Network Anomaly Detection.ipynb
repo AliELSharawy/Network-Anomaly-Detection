{
  "cells": [
    {
      "cell_type": "markdown",
      "metadata": {
        "id": "a8YYVk7dKLee"
      },
      "source": [
        "#**Assignment 2 - Network Anomaly Detection**"
      ]
    },
    {
      "cell_type": "markdown",
      "metadata": {
        "id": "sLXI-LVSKA97"
      },
      "source": [
        "###**Presented By:-**\n",
        "\n",
        "####**Name1:** Ali Hassan Ali Ahmed ElSharawy - **ID1:** 19016013\n",
        "####**Name2:** Ziad Mohamed Abuelkher  - **ID2:** 19015733\n",
        "####**Name3:** Youssef Magdy Helmy - **ID3:** 19016937"
      ]
    },
    {
      "cell_type": "markdown",
      "metadata": {
        "id": "qTW1_8ytKk5Q"
      },
      "source": [
        "#Problem Statement:\n",
        "\n",
        "####The exponential growth of network traffic has led to an increase in network anomalies, such as cyber attacks, network failures, and hardware malfunctions. Network anomaly detection is a critical task for maintaining the security and stability of computer networks. The objective of this assignment is to help students understand how K-Means and Normalized Cut algorithms can be used for network anomaly detection."
      ]
    },
    {
      "cell_type": "markdown",
      "metadata": {
        "id": "bp6Uv6x3LOeU"
      },
      "source": [
        "###**Imports**"
      ]
    },
    {
      "cell_type": "code",
      "execution_count": null,
      "metadata": {
        "id": "qlWwoGd-LUlO"
      },
      "outputs": [],
      "source": [
        "from google.colab import drive\n",
        "import os\n",
        "import zipfile\n",
        "import pandas as pd\n",
        "from sklearn.preprocessing import LabelEncoder\n",
        "import numpy as np\n",
        "import scipy\n",
        "from sklearn.model_selection import train_test_split\n",
        "import random\n",
        "from sklearn.metrics import adjusted_rand_score\n",
        "from sklearn.preprocessing import StandardScaler\n",
        "from sklearn.metrics.pairwise import euclidean_distances\n",
        "from sklearn.cluster import AgglomerativeClustering\n",
        "import matplotlib.pyplot as plt\n",
        "import random as rd\n",
        "import pickle\n",
        "from scipy.spatial.distance import cdist\n",
        "from scipy.stats import entropy\n",
        "from sklearn.cluster import SpectralClustering"
      ]
    },
    {
      "cell_type": "markdown",
      "metadata": {
        "id": "8vaAeCQUx3Am"
      },
      "source": [
        "##**Global Variables**\n",
        "\n",
        "data_labeled_kmeans --> np array for labeled data of Kmeans - 10% file  \n",
        "data_labeled_spectral --> np array for unlabeled data used in spectral clustering - 5M rows file  \n",
        "test_labeled --> np array for labeled tests dataset  \n",
        "\n",
        "data_kmeans --> unlabeled data for kmeans.  \n",
        "data_spectral --> unlabeled data for spectral clustering.  \n",
        "data_spectral_labels --> labels of the spectral clustering dataset (last column).  \n",
        "test --> unlabeled test dataset.  \n",
        "\n",
        "kmeans_dict --> dictionary used to convert categorical data to numerical (in rows 1, 2, 3, 41)  \n",
        "spectral_dict --> same idea but on spectral data  \n",
        "test_dict --> same idea but on test dataset  \n"
      ]
    },
    {
      "cell_type": "markdown",
      "metadata": {
        "id": "kHNSUyZ0KuQB"
      },
      "source": [
        "#1 Download Datset and Understand the Format"
      ]
    },
    {
      "cell_type": "code",
      "execution_count": null,
      "metadata": {
        "colab": {
          "base_uri": "https://localhost:8080/"
        },
        "id": "vUXN0aj5E9ws",
        "outputId": "f98aeef0-8e32-4388-f415-77c19e58fe79"
      },
      "outputs": [
        {
          "output_type": "stream",
          "name": "stdout",
          "text": [
            "Drive already mounted at /content/drive; to attempt to forcibly remount, call drive.mount(\"/content/drive\", force_remount=True).\n"
          ]
        }
      ],
      "source": [
        "drive.mount('/content/drive')"
      ]
    },
    {
      "cell_type": "code",
      "execution_count": null,
      "metadata": {
        "colab": {
          "base_uri": "https://localhost:8080/"
        },
        "id": "eP2zaxgQOYB7",
        "outputId": "ceb10aa7-0132-4b68-9fb7-293ee6260255"
      },
      "outputs": [
        {
          "output_type": "stream",
          "name": "stdout",
          "text": [
            "Current directory: /content/drive/MyDrive/Lab2/Datasets\n",
            "Files inside folder: ['corrected.gz', 'kddcup.data.gz', 'kddcup.data_10_percent.gz']\n"
          ]
        }
      ],
      "source": [
        "path = \"/content/drive/MyDrive/Lab2/Datasets\"\n",
        "os.chdir(path)\n",
        "print(\"Current directory:\", os.getcwd())\n",
        "print(\"Files inside folder:\", os.listdir())"
      ]
    },
    {
      "cell_type": "code",
      "execution_count": null,
      "metadata": {
        "id": "qxM9EoaqmfZq"
      },
      "outputs": [],
      "source": [
        "class Get_Data:\n",
        "  def __init__(self, data_path_kmeans, data_path_spectral, test_path, printFlag):\n",
        "    self.data_path_kmeans = data_path_kmeans\n",
        "    self.data_path_spectral = data_path_spectral\n",
        "    self.test_path = test_path\n",
        "    self.printFlag = printFlag\n",
        "    self.data_kmeans = 0\n",
        "    self.data_spectral = 0\n",
        "    self.test = 0\n",
        "    self.encoded_dict_kmeansData = {}\n",
        "    self.encoded_dict_spectralData = {}\n",
        "    self.encoded_dict_test = {}\n",
        "\n",
        "    self.getData()\n",
        "  \n",
        "  def _saveToDF(self, path):\n",
        "    return pd.read_csv(path, header=None)\n",
        "\n",
        "  def _getCatCols(self, df):\n",
        "    data_cols = []\n",
        "    for col in df.columns:\n",
        "      if df[col].dtype == 'object':\n",
        "        data_cols.append(col)\n",
        "    if(self.printFlag):\n",
        "      print(\"Columns containing categorical data: \" + str(data_cols))\n",
        "    return data_cols\n",
        "\n",
        "# cat_cols = categorical columns\n",
        "  def _encodeCategories(self, df, cat_cols):\n",
        "    label_encoders = {}\n",
        "    encodings_dict = {}\n",
        "    for col in cat_cols: \n",
        "      currentEncode = LabelEncoder()\n",
        "      df[col] = np.array(currentEncode.fit_transform(df[col]))\n",
        "      label_encoders[col] = df[col]\n",
        "      encodings_dict[col] = dict(zip(currentEncode.inverse_transform(range(len(currentEncode.classes_))), range(len(currentEncode.classes_))))\n",
        "\n",
        "    print(df.to_numpy()[:6,41])\n",
        "    print(encodings_dict[41])\n",
        "    return df.to_numpy(), encodings_dict\n",
        "\n",
        "  def getData(self):\n",
        "    currentDF = [self._saveToDF(self.data_path_kmeans), self._saveToDF(self.data_path_spectral), self._saveToDF(self.test_path)]\n",
        "    \n",
        "    if(self.printFlag):\n",
        "      print(f\"Head of stored data DF:\\n{currentDF[0].head()}\")\n",
        "      print(f\"Head of stored data DF:\\n{currentDF[1].head()}\")\n",
        "      print(f\"Head of stored test DF:\\n{currentDF[2].head()}\")\n",
        "\n",
        "    dataToStore = []\n",
        "    dictToStore = []\n",
        "\n",
        "    for df in currentDF:\n",
        "      colsOfCategories = self._getCatCols(df) # 1,2,3,41\n",
        "      data, curDict = self._encodeCategories(df, colsOfCategories)\n",
        "      dataToStore.append(data)\n",
        "      dictToStore.append(curDict)\n",
        "\n",
        "    self.data_kmeans = dataToStore[0]\n",
        "    self.data_spectral = dataToStore[1]\n",
        "    self.test = dataToStore[2]\n",
        "\n",
        "    self.encoded_dict_kmeansData = dictToStore[0]\n",
        "    self.encoded_dict_spectralData = dictToStore[1]\n",
        "    self.encoded_dict_test = dictToStore[2]\n",
        "    pass"
      ]
    },
    {
      "cell_type": "markdown",
      "metadata": {
        "id": "St7ROojmLXzy"
      },
      "source": [
        "Dataset is downloaded to our drive, in: 'MyDrive/Lab2/Datasets'.\n",
        "\n",
        "There are 2 files that matter with us:  \n",
        "- The unlabled initial data, which has 4898431 rows (samples), and 42 columns (41 features + 1 labels).  \n",
        "- The labled corrected data, which has 311029 rows (samples), and 42 columns."
      ]
    },
    {
      "cell_type": "code",
      "execution_count": null,
      "metadata": {
        "colab": {
          "base_uri": "https://localhost:8080/"
        },
        "id": "y29UPXcjKIdd",
        "outputId": "8932d3e9-d4b1-489f-b924-2dc466704a90"
      },
      "outputs": [
        {
          "output_type": "stream",
          "name": "stdout",
          "text": [
            "Head of stored data DF:\n",
            "   0    1     2   3    4     5   6   7   8   9   ...  32   33   34    35   36  \\\n",
            "0   0  tcp  http  SF  181  5450   0   0   0   0  ...   9  1.0  0.0  0.11  0.0   \n",
            "1   0  tcp  http  SF  239   486   0   0   0   0  ...  19  1.0  0.0  0.05  0.0   \n",
            "2   0  tcp  http  SF  235  1337   0   0   0   0  ...  29  1.0  0.0  0.03  0.0   \n",
            "3   0  tcp  http  SF  219  1337   0   0   0   0  ...  39  1.0  0.0  0.03  0.0   \n",
            "4   0  tcp  http  SF  217  2032   0   0   0   0  ...  49  1.0  0.0  0.02  0.0   \n",
            "\n",
            "    37   38   39   40       41  \n",
            "0  0.0  0.0  0.0  0.0  normal.  \n",
            "1  0.0  0.0  0.0  0.0  normal.  \n",
            "2  0.0  0.0  0.0  0.0  normal.  \n",
            "3  0.0  0.0  0.0  0.0  normal.  \n",
            "4  0.0  0.0  0.0  0.0  normal.  \n",
            "\n",
            "[5 rows x 42 columns]\n",
            "Head of stored data DF:\n",
            "   0    1     2   3    4      5   6   7   8   9   ...  32   33   34    35  \\\n",
            "0   0  tcp  http  SF  215  45076   0   0   0   0  ...   0  0.0  0.0  0.00   \n",
            "1   0  tcp  http  SF  162   4528   0   0   0   0  ...   1  1.0  0.0  1.00   \n",
            "2   0  tcp  http  SF  236   1228   0   0   0   0  ...   2  1.0  0.0  0.50   \n",
            "3   0  tcp  http  SF  233   2032   0   0   0   0  ...   3  1.0  0.0  0.33   \n",
            "4   0  tcp  http  SF  239    486   0   0   0   0  ...   4  1.0  0.0  0.25   \n",
            "\n",
            "    36   37   38   39   40       41  \n",
            "0  0.0  0.0  0.0  0.0  0.0  normal.  \n",
            "1  0.0  0.0  0.0  0.0  0.0  normal.  \n",
            "2  0.0  0.0  0.0  0.0  0.0  normal.  \n",
            "3  0.0  0.0  0.0  0.0  0.0  normal.  \n",
            "4  0.0  0.0  0.0  0.0  0.0  normal.  \n",
            "\n",
            "[5 rows x 42 columns]\n",
            "Head of stored test DF:\n",
            "   0    1        2   3    4    5   6   7   8   9   ...   32   33    34    35  \\\n",
            "0   0  udp  private  SF  105  146   0   0   0   0  ...  254  1.0  0.01  0.00   \n",
            "1   0  udp  private  SF  105  146   0   0   0   0  ...  254  1.0  0.01  0.00   \n",
            "2   0  udp  private  SF  105  146   0   0   0   0  ...  254  1.0  0.01  0.00   \n",
            "3   0  udp  private  SF  105  146   0   0   0   0  ...  254  1.0  0.01  0.00   \n",
            "4   0  udp  private  SF  105  146   0   0   0   0  ...  254  1.0  0.01  0.01   \n",
            "\n",
            "    36   37   38   39   40              41  \n",
            "0  0.0  0.0  0.0  0.0  0.0         normal.  \n",
            "1  0.0  0.0  0.0  0.0  0.0         normal.  \n",
            "2  0.0  0.0  0.0  0.0  0.0         normal.  \n",
            "3  0.0  0.0  0.0  0.0  0.0  snmpgetattack.  \n",
            "4  0.0  0.0  0.0  0.0  0.0  snmpgetattack.  \n",
            "\n",
            "[5 rows x 42 columns]\n",
            "Columns containing categorical data: [1, 2, 3, 41]\n",
            "[11. 11. 11. 11. 11. 11.]\n",
            "{'back.': 0, 'buffer_overflow.': 1, 'ftp_write.': 2, 'guess_passwd.': 3, 'imap.': 4, 'ipsweep.': 5, 'land.': 6, 'loadmodule.': 7, 'multihop.': 8, 'neptune.': 9, 'nmap.': 10, 'normal.': 11, 'perl.': 12, 'phf.': 13, 'pod.': 14, 'portsweep.': 15, 'rootkit.': 16, 'satan.': 17, 'smurf.': 18, 'spy.': 19, 'teardrop.': 20, 'warezclient.': 21, 'warezmaster.': 22}\n",
            "Columns containing categorical data: [1, 2, 3, 41]\n",
            "[11. 11. 11. 11. 11. 11.]\n",
            "{'back.': 0, 'buffer_overflow.': 1, 'ftp_write.': 2, 'guess_passwd.': 3, 'imap.': 4, 'ipsweep.': 5, 'land.': 6, 'loadmodule.': 7, 'multihop.': 8, 'neptune.': 9, 'nmap.': 10, 'normal.': 11, 'perl.': 12, 'phf.': 13, 'pod.': 14, 'portsweep.': 15, 'rootkit.': 16, 'satan.': 17, 'smurf.': 18, 'spy.': 19, 'teardrop.': 20, 'warezclient.': 21, 'warezmaster.': 22}\n",
            "Columns containing categorical data: [1, 2, 3, 41]\n",
            "[16. 16. 16. 28. 28. 28.]\n",
            "{'apache2.': 0, 'back.': 1, 'buffer_overflow.': 2, 'ftp_write.': 3, 'guess_passwd.': 4, 'httptunnel.': 5, 'imap.': 6, 'ipsweep.': 7, 'land.': 8, 'loadmodule.': 9, 'mailbomb.': 10, 'mscan.': 11, 'multihop.': 12, 'named.': 13, 'neptune.': 14, 'nmap.': 15, 'normal.': 16, 'perl.': 17, 'phf.': 18, 'pod.': 19, 'portsweep.': 20, 'processtable.': 21, 'ps.': 22, 'rootkit.': 23, 'saint.': 24, 'satan.': 25, 'sendmail.': 26, 'smurf.': 27, 'snmpgetattack.': 28, 'snmpguess.': 29, 'sqlattack.': 30, 'teardrop.': 31, 'udpstorm.': 32, 'warezmaster.': 33, 'worm.': 34, 'xlock.': 35, 'xsnoop.': 36, 'xterm.': 37}\n"
          ]
        }
      ],
      "source": [
        "data_path_kmeans = '/content/drive/MyDrive/Lab2/Datasets/kddcup.data_10_percent.gz'\n",
        "data_path_spectral = '/content/drive/MyDrive/Lab2/Datasets/kddcup.data.gz'\n",
        "test_path = '/content/drive/MyDrive/Lab2/Datasets/corrected.gz'\n",
        "getData = Get_Data(data_path_kmeans, data_path_spectral, test_path, True)\n",
        "data_labeled_kmeans = getData.data_kmeans\n",
        "data_labeled_spectral = getData.data_spectral\n",
        "test = getData.test"
      ]
    },
    {
      "cell_type": "code",
      "execution_count": null,
      "metadata": {
        "colab": {
          "base_uri": "https://localhost:8080/"
        },
        "id": "JnolvEYh9ww6",
        "outputId": "74b1daa3-a3fa-46a1-a8f8-912b37534f64"
      },
      "outputs": [
        {
          "output_type": "stream",
          "name": "stdout",
          "text": [
            "dictionary for Kmeans mappings:\n",
            "{1: {'icmp': 0, 'tcp': 1, 'udp': 2}, 2: {'IRC': 0, 'X11': 1, 'Z39_50': 2, 'auth': 3, 'bgp': 4, 'courier': 5, 'csnet_ns': 6, 'ctf': 7, 'daytime': 8, 'discard': 9, 'domain': 10, 'domain_u': 11, 'echo': 12, 'eco_i': 13, 'ecr_i': 14, 'efs': 15, 'exec': 16, 'finger': 17, 'ftp': 18, 'ftp_data': 19, 'gopher': 20, 'hostnames': 21, 'http': 22, 'http_443': 23, 'imap4': 24, 'iso_tsap': 25, 'klogin': 26, 'kshell': 27, 'ldap': 28, 'link': 29, 'login': 30, 'mtp': 31, 'name': 32, 'netbios_dgm': 33, 'netbios_ns': 34, 'netbios_ssn': 35, 'netstat': 36, 'nnsp': 37, 'nntp': 38, 'ntp_u': 39, 'other': 40, 'pm_dump': 41, 'pop_2': 42, 'pop_3': 43, 'printer': 44, 'private': 45, 'red_i': 46, 'remote_job': 47, 'rje': 48, 'shell': 49, 'smtp': 50, 'sql_net': 51, 'ssh': 52, 'sunrpc': 53, 'supdup': 54, 'systat': 55, 'telnet': 56, 'tftp_u': 57, 'tim_i': 58, 'time': 59, 'urh_i': 60, 'urp_i': 61, 'uucp': 62, 'uucp_path': 63, 'vmnet': 64, 'whois': 65}, 3: {'OTH': 0, 'REJ': 1, 'RSTO': 2, 'RSTOS0': 3, 'RSTR': 4, 'S0': 5, 'S1': 6, 'S2': 7, 'S3': 8, 'SF': 9, 'SH': 10}, 41: {'back.': 0, 'buffer_overflow.': 1, 'ftp_write.': 2, 'guess_passwd.': 3, 'imap.': 4, 'ipsweep.': 5, 'land.': 6, 'loadmodule.': 7, 'multihop.': 8, 'neptune.': 9, 'nmap.': 10, 'normal.': 11, 'perl.': 12, 'phf.': 13, 'pod.': 14, 'portsweep.': 15, 'rootkit.': 16, 'satan.': 17, 'smurf.': 18, 'spy.': 19, 'teardrop.': 20, 'warezclient.': 21, 'warezmaster.': 22}}\n",
            "dictionary for Spectral Clustering mappings:\n",
            "{1: {'icmp': 0, 'tcp': 1, 'udp': 2}, 2: {'IRC': 0, 'X11': 1, 'Z39_50': 2, 'aol': 3, 'auth': 4, 'bgp': 5, 'courier': 6, 'csnet_ns': 7, 'ctf': 8, 'daytime': 9, 'discard': 10, 'domain': 11, 'domain_u': 12, 'echo': 13, 'eco_i': 14, 'ecr_i': 15, 'efs': 16, 'exec': 17, 'finger': 18, 'ftp': 19, 'ftp_data': 20, 'gopher': 21, 'harvest': 22, 'hostnames': 23, 'http': 24, 'http_2784': 25, 'http_443': 26, 'http_8001': 27, 'imap4': 28, 'iso_tsap': 29, 'klogin': 30, 'kshell': 31, 'ldap': 32, 'link': 33, 'login': 34, 'mtp': 35, 'name': 36, 'netbios_dgm': 37, 'netbios_ns': 38, 'netbios_ssn': 39, 'netstat': 40, 'nnsp': 41, 'nntp': 42, 'ntp_u': 43, 'other': 44, 'pm_dump': 45, 'pop_2': 46, 'pop_3': 47, 'printer': 48, 'private': 49, 'red_i': 50, 'remote_job': 51, 'rje': 52, 'shell': 53, 'smtp': 54, 'sql_net': 55, 'ssh': 56, 'sunrpc': 57, 'supdup': 58, 'systat': 59, 'telnet': 60, 'tftp_u': 61, 'tim_i': 62, 'time': 63, 'urh_i': 64, 'urp_i': 65, 'uucp': 66, 'uucp_path': 67, 'vmnet': 68, 'whois': 69}, 3: {'OTH': 0, 'REJ': 1, 'RSTO': 2, 'RSTOS0': 3, 'RSTR': 4, 'S0': 5, 'S1': 6, 'S2': 7, 'S3': 8, 'SF': 9, 'SH': 10}, 41: {'back.': 0, 'buffer_overflow.': 1, 'ftp_write.': 2, 'guess_passwd.': 3, 'imap.': 4, 'ipsweep.': 5, 'land.': 6, 'loadmodule.': 7, 'multihop.': 8, 'neptune.': 9, 'nmap.': 10, 'normal.': 11, 'perl.': 12, 'phf.': 13, 'pod.': 14, 'portsweep.': 15, 'rootkit.': 16, 'satan.': 17, 'smurf.': 18, 'spy.': 19, 'teardrop.': 20, 'warezclient.': 21, 'warezmaster.': 22}}\n",
            "dictionary for Testing mappings:\n",
            "{1: {'icmp': 0, 'tcp': 1, 'udp': 2}, 2: {'IRC': 0, 'X11': 1, 'Z39_50': 2, 'auth': 3, 'bgp': 4, 'courier': 5, 'csnet_ns': 6, 'ctf': 7, 'daytime': 8, 'discard': 9, 'domain': 10, 'domain_u': 11, 'echo': 12, 'eco_i': 13, 'ecr_i': 14, 'efs': 15, 'exec': 16, 'finger': 17, 'ftp': 18, 'ftp_data': 19, 'gopher': 20, 'hostnames': 21, 'http': 22, 'http_443': 23, 'icmp': 24, 'imap4': 25, 'iso_tsap': 26, 'klogin': 27, 'kshell': 28, 'ldap': 29, 'link': 30, 'login': 31, 'mtp': 32, 'name': 33, 'netbios_dgm': 34, 'netbios_ns': 35, 'netbios_ssn': 36, 'netstat': 37, 'nnsp': 38, 'nntp': 39, 'ntp_u': 40, 'other': 41, 'pm_dump': 42, 'pop_2': 43, 'pop_3': 44, 'printer': 45, 'private': 46, 'remote_job': 47, 'rje': 48, 'shell': 49, 'smtp': 50, 'sql_net': 51, 'ssh': 52, 'sunrpc': 53, 'supdup': 54, 'systat': 55, 'telnet': 56, 'tftp_u': 57, 'tim_i': 58, 'time': 59, 'urp_i': 60, 'uucp': 61, 'uucp_path': 62, 'vmnet': 63, 'whois': 64}, 3: {'OTH': 0, 'REJ': 1, 'RSTO': 2, 'RSTOS0': 3, 'RSTR': 4, 'S0': 5, 'S1': 6, 'S2': 7, 'S3': 8, 'SF': 9, 'SH': 10}, 41: {'apache2.': 0, 'back.': 1, 'buffer_overflow.': 2, 'ftp_write.': 3, 'guess_passwd.': 4, 'httptunnel.': 5, 'imap.': 6, 'ipsweep.': 7, 'land.': 8, 'loadmodule.': 9, 'mailbomb.': 10, 'mscan.': 11, 'multihop.': 12, 'named.': 13, 'neptune.': 14, 'nmap.': 15, 'normal.': 16, 'perl.': 17, 'phf.': 18, 'pod.': 19, 'portsweep.': 20, 'processtable.': 21, 'ps.': 22, 'rootkit.': 23, 'saint.': 24, 'satan.': 25, 'sendmail.': 26, 'smurf.': 27, 'snmpgetattack.': 28, 'snmpguess.': 29, 'sqlattack.': 30, 'teardrop.': 31, 'udpstorm.': 32, 'warezmaster.': 33, 'worm.': 34, 'xlock.': 35, 'xsnoop.': 36, 'xterm.': 37}}\n"
          ]
        }
      ],
      "source": [
        "kmeans_dict = getData.encoded_dict_kmeansData\n",
        "spectral_dict = getData.encoded_dict_spectralData\n",
        "test_dict = getData.encoded_dict_test\n",
        "print(f\"dictionary for Kmeans mappings:\\n{kmeans_dict}\")\n",
        "print(f\"dictionary for Spectral Clustering mappings:\\n{spectral_dict}\")\n",
        "print(f\"dictionary for Testing mappings:\\n{test_dict}\")\n",
        "\n",
        "# del data_path_kmeans, data_path_spectral, test_path, getData"
      ]
    },
    {
      "cell_type": "markdown",
      "source": [
        "store_data & load_saved_data are used to store and later retrieve kmeans result, instead of running hours to get them if we need to test."
      ],
      "metadata": {
        "id": "LQmYJf9P9A_P"
      }
    },
    {
      "cell_type": "code",
      "source": [
        "def store_data(name, obj):\n",
        "  with open(f'/content/drive/MyDrive/Lab2/KmeansFinalResults/{name}.pkl', 'wb') as f:\n",
        "    pickle.dump(obj, f)"
      ],
      "metadata": {
        "id": "Zy6qcgrMnKIX"
      },
      "execution_count": null,
      "outputs": []
    },
    {
      "cell_type": "code",
      "source": [
        "def load_saved_data(name):\n",
        "  with open(f'/content/drive/My Drive/Lab2/KmeansFinalResults/{name}.pkl', 'rb') as f:\n",
        "    data = pickle.load(f)\n",
        "  return data  "
      ],
      "metadata": {
        "id": "n2Pgy9PQt5tc"
      },
      "execution_count": null,
      "outputs": []
    },
    {
      "cell_type": "code",
      "source": [
        "# store_data(\"data_labeled_kmeans\", data_labeled_kmeans)\n",
        "# store_data(\"kmeans_dict\", kmeans_dict)\n",
        "# store_data(\"test_dict\", test_dict)\n",
        "# store_data(\"test_labeled\", test)"
      ],
      "metadata": {
        "id": "fZlw3K8tCjjt"
      },
      "execution_count": null,
      "outputs": []
    },
    {
      "cell_type": "code",
      "execution_count": null,
      "metadata": {
        "colab": {
          "base_uri": "https://localhost:8080/"
        },
        "id": "Snt0cduCKgpJ",
        "outputId": "e284ecb3-d36f-4223-f90e-3de471992e1c"
      },
      "outputs": [
        {
          "output_type": "stream",
          "name": "stdout",
          "text": [
            "[ 0.  1.  2.  3.  4.  5.  6.  7.  8.  9. 10. 11. 12. 13. 14. 15. 16. 17.\n",
            " 18. 19. 20. 21. 22.]\n",
            "[ 0.  1.  2.  3.  4.  5.  6.  7.  8.  9. 10. 11. 12. 13. 14. 15. 16. 17.\n",
            " 18. 19. 20. 21. 22.]\n"
          ]
        }
      ],
      "source": [
        "# print(data)\n",
        "print(np.unique(data_labeled_kmeans[:,41]))\n",
        "print(np.unique(data_labeled_spectral[:,41]))"
      ]
    },
    {
      "cell_type": "markdown",
      "metadata": {
        "id": "xyQm9oOtV3MO"
      },
      "source": [
        "**\"Change the categorical features to numerical\"**  \n",
        "Concerning this part: Columns containing categorical data are 4 columns: 2nd, 3rd, 4th and last one: [1, 2, 3, 41]."
      ]
    },
    {
      "cell_type": "markdown",
      "metadata": {
        "id": "gQSSkciWju-3"
      },
      "source": [
        "Now, all data is ready, where:\n",
        "\n",
        "initial data --> stored in 'data' np array  \n",
        "test data    --> stored in 'test' np array \n",
        "\n",
        "All categories are mapped to unique values, so all our data is now numerical."
      ]
    },
    {
      "cell_type": "markdown",
      "metadata": {
        "id": "qTfgbgHiDWdm"
      },
      "source": [
        "Last column in data is for labels, so we need to remove it:"
      ]
    },
    {
      "cell_type": "code",
      "execution_count": null,
      "metadata": {
        "colab": {
          "base_uri": "https://localhost:8080/"
        },
        "id": "mcoBR1sJKoV7",
        "outputId": "31f59d5f-cc62-439d-8731-14205cc2ef99"
      },
      "outputs": [
        {
          "output_type": "stream",
          "name": "stdout",
          "text": [
            "[[ 0.  1. 24. ...  0.  0. 11.]\n",
            " [ 0.  1. 24. ...  0.  0. 11.]\n",
            " [ 0.  1. 24. ...  0.  0. 11.]\n",
            " ...\n",
            " [ 0.  1. 24. ...  0.  0. 11.]\n",
            " [ 0.  1. 24. ...  0.  0. 11.]\n",
            " [ 0.  1. 24. ...  0.  0. 11.]]\n",
            "[[0.0e+00 1.0e+00 2.2e+01 ... 0.0e+00 0.0e+00 0.0e+00]\n",
            " [0.0e+00 1.0e+00 2.2e+01 ... 0.0e+00 0.0e+00 0.0e+00]\n",
            " [0.0e+00 1.0e+00 2.2e+01 ... 0.0e+00 0.0e+00 0.0e+00]\n",
            " ...\n",
            " [0.0e+00 1.0e+00 2.2e+01 ... 1.0e-02 0.0e+00 0.0e+00]\n",
            " [0.0e+00 1.0e+00 2.2e+01 ... 1.0e-02 0.0e+00 0.0e+00]\n",
            " [0.0e+00 1.0e+00 2.2e+01 ... 1.0e-02 0.0e+00 0.0e+00]]\n"
          ]
        }
      ],
      "source": [
        "print(data_labeled_spectral)\n",
        "data_kmeans = data_labeled_kmeans[:,:-1]\n",
        "data_spectral = data_labeled_spectral[:,:-1]\n",
        "data_spectral_labels = data_labeled_spectral[:,-1]\n",
        "test_labeled = test\n",
        "test = test_labeled[:,:-1]\n",
        "print(data_kmeans)"
      ]
    },
    {
      "cell_type": "code",
      "source": [
        "# store_data(\"data_kmeans\", data_kmeans)\n",
        "# store_data(\"test\", test)"
      ],
      "metadata": {
        "id": "0EMONg2ZDOan"
      },
      "execution_count": null,
      "outputs": []
    },
    {
      "cell_type": "markdown",
      "metadata": {
        "id": "sOMXTSrckTjP"
      },
      "source": [
        "\n",
        "\n",
        "---\n",
        "\n"
      ]
    },
    {
      "cell_type": "markdown",
      "metadata": {
        "id": "gB49Z3Hf0J1b"
      },
      "source": [
        "#2 Clustering Using K-Means"
      ]
    },
    {
      "cell_type": "markdown",
      "source": [
        "Functions used in Kmeans part: \n",
        "\n",
        "*   **create_randomized_centroids():** chooses k points from data points D to represent initial centroids for k-means. \n",
        "*   **Kmeans():** main algorithm to run k-means, taking 4 parameters: dataset, k, stopping conditions (epsilon, max iterations)  \n",
        "*  **run_kmeans():** initialize stopping conditions, and calls Kmeans() on the kmeans' dataset, for a given value k, then prints the resulting centroids.  \n",
        "*   **distance_centroids_clusters():** given k centroids and k clusters, it finds the sum of distances between all points and each's equivalent centroid.  \n",
        "*   **get_centroids_with_random_restarts():** applies 3 random restarts on run_kmeans(), and chooses the best centroids according to the previous described function.\n"
      ],
      "metadata": {
        "id": "9KPRIMHf9fdV"
      }
    },
    {
      "cell_type": "code",
      "execution_count": null,
      "metadata": {
        "id": "u0Xy-jqEILjS"
      },
      "outputs": [],
      "source": [
        "def create_randomized_centroids(D, k):\n",
        "  centroids = set()\n",
        "  randomRange = len(D) # number of rows (samples)\n",
        "  while(len(centroids)<k):\n",
        "    c = rd.randint(0,randomRange)\n",
        "    centroids.add(tuple(D[c]))\n",
        "  toReturn = np.array(list(centroids))\n",
        "  print(f\"({len(toReturn)},{len(toReturn[0])})\")\n",
        "  return toReturn"
      ]
    },
    {
      "cell_type": "code",
      "execution_count": null,
      "metadata": {
        "id": "zBIoXAUDoQAi"
      },
      "outputs": [],
      "source": [
        "# D --> Dataset, k --> number of clusters we want, e --> stopping value\n",
        "\n",
        "def Kmeans(D, k, e, max):\n",
        "  centroids = create_randomized_centroids(D, k)\n",
        "  iterationN = 0\n",
        "\n",
        "  while True:\n",
        "    iterationN += 1\n",
        "    clusters = [[] for _ in range(k)]\n",
        "\n",
        "    distances = cdist(D, centroids)\n",
        "    closest_clusters_idxs = np.argmin(distances, axis=1)\n",
        "    for i, cluster_idx in enumerate(closest_clusters_idxs):\n",
        "      clusters[cluster_idx].append(D[i])\n",
        "    \n",
        "    newCentroids = []\n",
        "    for i in range(k):\n",
        "      newCentroids.append(np.mean(clusters[i], axis=0))\n",
        "    newCentroids = np.array(newCentroids)\n",
        "    \n",
        "    totalNorm = np.sum(np.square(centroids - newCentroids))\n",
        "\n",
        "    if(totalNorm < e):\n",
        "      print(f\"Total iterations number = {iterationN}\")\n",
        "      break;\n",
        "    elif(iterationN >= max):\n",
        "      print(\"MAX Number of Iterations! algorithm STOPPED\")\n",
        "      break;\n",
        "\n",
        "    if(iterationN % 25 == 0):\n",
        "      print(f\"{iterationN}) dM = {totalNorm}\")    \n",
        "      \n",
        "    centroids = newCentroids\n",
        "\n",
        "  return clusters, centroids"
      ]
    },
    {
      "cell_type": "code",
      "execution_count": null,
      "metadata": {
        "id": "4JPSHmksoV9D"
      },
      "outputs": [],
      "source": [
        "Ks = [7, 15, 23, 31, 45]\n",
        "# clusters = [] # returned just to print data, but not stored\n",
        "epsilon = 0.01\n",
        "\n",
        "def run_Kmeans(k):\n",
        "  max_itr = 300\n",
        "  print(f\"For K = {k}:\")\n",
        "  clusters, centroids = Kmeans(data_kmeans, k, epsilon, max_itr)\n",
        "  for idx, cluster in enumerate(clusters):\n",
        "    print(f\"cluster {idx+1} ==> {len(cluster)}\")\n",
        "  print(f\"Result Centroids:\\n{centroids}\\n============================\\n\\n\")\n",
        "  return clusters, centroids\n"
      ]
    },
    {
      "cell_type": "code",
      "source": [
        "def distance_centroids_clusters(centroids, clusters):\n",
        "  distance = 0\n",
        "  idx = 0\n",
        "  for cluster in (clusters):\n",
        "    currCluster = np.array(cluster)\n",
        "    currCentroid = centroids[idx].reshape(1,41)\n",
        "    distance += np.sum(np.sqrt(np.sum((currCentroid - currCluster)**2, axis=1)))\n",
        "    idx+=1\n",
        "  return distance"
      ],
      "metadata": {
        "id": "MzhB_zrEF9oB"
      },
      "execution_count": null,
      "outputs": []
    },
    {
      "cell_type": "code",
      "source": [
        "def get_centroids_with_random_restarts(k):\n",
        "  centroids_arr = [[] for _ in range(3)]\n",
        "  dists = [[] for _ in range(3)]\n",
        "\n",
        "  clusters_run1, centroids_arr[0] = run_Kmeans(k)\n",
        "  dists[0] = distance_centroids_clusters(centroids_arr[0], clusters_run1)\n",
        "  del clusters_run1\n",
        "\n",
        "  clusters_run2, centroids_arr[1] = run_Kmeans(k)\n",
        "  dists[1] = distance_centroids_clusters(centroids_arr[1], clusters_run2)\n",
        "  del clusters_run2\n",
        "\n",
        "  clusters_run3, centroids_arr[2] = run_Kmeans(k)\n",
        "  dists[2] = distance_centroids_clusters(centroids_arr[2], clusters_run3)\n",
        "  del clusters_run3\n",
        "\n",
        "  centroids = centroids_arr[dists.index(min(dists))]\n",
        "  return centroids"
      ],
      "metadata": {
        "id": "z_aGviZVSA5r"
      },
      "execution_count": null,
      "outputs": []
    },
    {
      "cell_type": "markdown",
      "source": [
        "Next, we run 5 runs, for each k value."
      ],
      "metadata": {
        "id": "hndtpe_T_m2z"
      }
    },
    {
      "cell_type": "code",
      "source": [
        "centroids_k7 = get_centroids_with_random_restarts(7)"
      ],
      "metadata": {
        "colab": {
          "base_uri": "https://localhost:8080/"
        },
        "id": "9R0NF7-_mSpT",
        "outputId": "f867e69f-6519-436b-d80e-57d5c957f598"
      },
      "execution_count": null,
      "outputs": [
        {
          "output_type": "stream",
          "name": "stdout",
          "text": [
            "For K = 7:\n",
            "(7,41)\n",
            "25) dM = 5926807280.225866\n",
            "Total iterations number = 31\n",
            "cluster 1 ==> 295520\n",
            "cluster 2 ==> 18\n",
            "cluster 3 ==> 82\n",
            "cluster 4 ==> 80\n",
            "cluster 5 ==> 198298\n",
            "cluster 6 ==> 1\n",
            "cluster 7 ==> 22\n",
            "Result Centroids:\n",
            "[[9.32505372e-02 4.90719277e-02 1.52309944e+01 8.99827414e+00\n",
            "  1.45093454e+03 7.33068239e+01 0.00000000e+00 8.76465711e-04\n",
            "  0.00000000e+00 1.46901068e-02 0.00000000e+00 4.64323785e-02\n",
            "  7.20461583e-03 0.00000000e+00 6.76807499e-06 8.07769750e-03\n",
            "  8.02016886e-04 1.45513612e-04 4.50076987e-04 0.00000000e+00\n",
            "  0.00000000e+00 0.00000000e+00 4.81956982e+02 4.81976525e+02\n",
            "  6.53796044e-05 7.01510973e-05 3.08522698e-04 7.27161977e-04\n",
            "  9.99230571e-01 1.29046886e-03 1.54218710e-02 2.48974474e+02\n",
            "  2.48706550e+02 9.82012555e-01 3.14414308e-03 9.55429857e-01\n",
            "  7.85671985e-04 3.51669176e-04 1.25818514e-04 7.66416812e-04\n",
            "  4.22294039e-04]\n",
            " [5.52277778e+02 1.00000000e+00 2.12222222e+01 9.00000000e+00\n",
            "  1.08944444e+02 5.00968983e+06 0.00000000e+00 0.00000000e+00\n",
            "  0.00000000e+00 0.00000000e+00 1.66666667e-01 1.11111111e-01\n",
            "  1.00000000e+00 5.55555556e-02 1.11111111e-01 5.00000000e-01\n",
            "  0.00000000e+00 0.00000000e+00 0.00000000e+00 0.00000000e+00\n",
            "  0.00000000e+00 0.00000000e+00 1.11111111e+00 1.11111111e+00\n",
            "  0.00000000e+00 0.00000000e+00 0.00000000e+00 0.00000000e+00\n",
            "  1.00000000e+00 0.00000000e+00 0.00000000e+00 4.39444444e+01\n",
            "  2.61666667e+01 9.03333333e-01 2.22222222e-03 8.33888889e-01\n",
            "  5.55555556e-04 4.16666667e-02 4.77777778e-02 4.27777778e-02\n",
            "  0.00000000e+00]\n",
            " [3.66493902e+03 1.00000000e+00 1.97682927e+01 8.92682927e+00\n",
            "  4.31342730e+06 0.00000000e+00 0.00000000e+00 0.00000000e+00\n",
            "  0.00000000e+00 1.95121951e+00 0.00000000e+00 9.39024390e-01\n",
            "  0.00000000e+00 0.00000000e+00 0.00000000e+00 0.00000000e+00\n",
            "  0.00000000e+00 0.00000000e+00 0.00000000e+00 0.00000000e+00\n",
            "  0.00000000e+00 0.00000000e+00 1.20731707e+00 1.50000000e+00\n",
            "  1.21951220e-02 1.39024390e-02 1.21951220e-02 1.21951220e-02\n",
            "  9.83780488e-01 3.25609756e-02 4.14634146e-02 5.38414634e+01\n",
            "  4.23780488e+01 7.39390244e-01 3.68292683e-02 7.69878049e-01\n",
            "  8.13414634e-02 7.80487805e-03 1.74390244e-02 6.46341463e-03\n",
            "  4.87804878e-04]\n",
            " [6.02925000e+02 1.00000000e+00 4.16625000e+01 8.85000000e+00\n",
            "  9.49040000e+03 3.92440237e+05 0.00000000e+00 0.00000000e+00\n",
            "  3.75000000e-02 3.75000000e-02 2.50000000e-02 9.37500000e-01\n",
            "  1.48250000e+01 2.50000000e-02 3.75000000e-02 1.60375000e+01\n",
            "  2.50000000e-02 0.00000000e+00 1.00000000e-01 0.00000000e+00\n",
            "  0.00000000e+00 0.00000000e+00 2.47500000e+00 3.61250000e+00\n",
            "  1.87500000e-02 1.33750000e-02 1.25000000e-02 1.38750000e-02\n",
            "  9.87500000e-01 2.50000000e-02 4.15000000e-02 1.27500000e+02\n",
            "  1.05475000e+02 5.03875000e-01 4.00000000e-02 7.60000000e-02\n",
            "  2.32500000e-02 1.25000000e-02 1.85000000e-02 1.60000000e-02\n",
            "  2.38750000e-02]\n",
            " [1.17569000e+02 1.08953523e+00 3.55856752e+01 6.11909456e+00\n",
            "  9.13025571e+01 1.25987117e+03 1.10935743e-04 1.47191561e-02\n",
            "  2.01701351e-05 6.32737138e-02 3.52977364e-04 2.99228997e-01\n",
            "  8.63281782e-03 2.62211756e-04 5.54678715e-05 9.72704765e-03\n",
            "  1.49259000e-03 5.54678715e-05 1.80018456e-03 0.00000000e+00\n",
            "  0.00000000e+00 3.45413563e-03 1.09599542e+02 1.14720618e+01\n",
            "  4.40033230e-01 4.39834252e-01 1.42602502e-01 1.42688830e-01\n",
            "  4.81882983e-01 5.03211590e-02 4.92205251e-02 2.08020901e+02\n",
            "  9.93263326e+01 4.13846596e-01 7.22690898e-02 7.53781144e-02\n",
            "  1.54308089e-02 4.39777927e-01 4.39329444e-01 1.43622455e-01\n",
            "  1.42378462e-01]\n",
            " [2.00000000e+00 1.00000000e+00 1.70000000e+01 2.00000000e+00\n",
            "  6.93375640e+08 0.00000000e+00 0.00000000e+00 0.00000000e+00\n",
            "  0.00000000e+00 1.00000000e+00 0.00000000e+00 0.00000000e+00\n",
            "  0.00000000e+00 0.00000000e+00 0.00000000e+00 0.00000000e+00\n",
            "  0.00000000e+00 0.00000000e+00 0.00000000e+00 0.00000000e+00\n",
            "  0.00000000e+00 0.00000000e+00 5.70000000e+01 3.00000000e+00\n",
            "  7.90000000e-01 6.70000000e-01 2.10000000e-01 3.30000000e-01\n",
            "  5.00000000e-02 3.90000000e-01 0.00000000e+00 2.55000000e+02\n",
            "  3.00000000e+00 1.00000000e-02 9.00000000e-02 2.20000000e-01\n",
            "  0.00000000e+00 1.80000000e-01 6.70000000e-01 5.00000000e-02\n",
            "  3.30000000e-01]\n",
            " [4.83636364e+01 1.00000000e+00 5.43181818e+01 9.00000000e+00\n",
            "  5.57181818e+02 1.63601168e+06 0.00000000e+00 0.00000000e+00\n",
            "  0.00000000e+00 0.00000000e+00 0.00000000e+00 9.54545455e-01\n",
            "  0.00000000e+00 0.00000000e+00 0.00000000e+00 0.00000000e+00\n",
            "  0.00000000e+00 0.00000000e+00 0.00000000e+00 0.00000000e+00\n",
            "  0.00000000e+00 0.00000000e+00 1.04545455e+00 1.04545455e+00\n",
            "  0.00000000e+00 0.00000000e+00 0.00000000e+00 0.00000000e+00\n",
            "  1.00000000e+00 0.00000000e+00 0.00000000e+00 1.51545455e+02\n",
            "  3.10909091e+01 2.27727273e-01 3.27272727e-02 5.50000000e-02\n",
            "  4.31818182e-02 0.00000000e+00 0.00000000e+00 4.54545455e-04\n",
            "  0.00000000e+00]]\n",
            "============================\n",
            "\n",
            "\n",
            "For K = 7:\n",
            "(7,41)\n",
            "25) dM = 6360173315.126939\n",
            "Total iterations number = 31\n",
            "cluster 1 ==> 198297\n",
            "cluster 2 ==> 295521\n",
            "cluster 3 ==> 18\n",
            "cluster 4 ==> 22\n",
            "cluster 5 ==> 82\n",
            "cluster 6 ==> 80\n",
            "cluster 7 ==> 1\n",
            "Result Centroids:\n",
            "[[1.17576069e+02 1.08954065e+00 3.55848029e+01 6.11892023e+00\n",
            "  9.12687884e+01 1.25992710e+03 1.10942456e-04 1.47200468e-02\n",
            "  2.01713557e-05 6.32775427e-02 3.52998724e-04 2.99186590e-01\n",
            "  8.63334023e-03 2.62227624e-04 5.54712281e-05 9.72763627e-03\n",
            "  1.48763748e-03 5.54712281e-05 1.80029349e-03 0.00000000e+00\n",
            "  0.00000000e+00 3.45434466e-03 1.09606109e+02 1.14726653e+01\n",
            "  4.40059858e-01 4.39860868e-01 1.42611132e-01 1.42697465e-01\n",
            "  4.81854151e-01 5.03191613e-02 4.91982895e-02 2.08025441e+02\n",
            "  9.93227417e+01 4.13835533e-01 7.22688741e-02 7.53814151e-02\n",
            "  1.54310367e-02 4.39804489e-01 4.39355929e-01 1.43631046e-01\n",
            "  1.42386927e-01]\n",
            " [9.32772057e-02 4.91105419e-02 1.52324063e+01 8.99827421e+00\n",
            "  1.45090199e+03 7.33174775e+01 0.00000000e+00 8.76430121e-04\n",
            "  0.00000000e+00 1.46895102e-02 0.00000000e+00 4.64710998e-02\n",
            "  7.20432327e-03 0.00000000e+00 6.76780016e-06 8.07736949e-03\n",
            "  8.05368219e-04 1.45507703e-04 4.50058711e-04 0.00000000e+00\n",
            "  0.00000000e+00 0.00000000e+00 4.81937455e+02 4.81957014e+02\n",
            "  6.53769495e-05 7.01482487e-05 3.08510170e-04 7.27132449e-04\n",
            "  9.99228911e-01 1.29380036e-03 1.54381643e-02 2.48969765e+02\n",
            "  2.48702894e+02 9.81996907e-01 3.14709475e-03 9.55391906e-01\n",
            "  7.86113828e-04 3.51688735e-04 1.25881083e-04 7.66453368e-04\n",
            "  4.22378408e-04]\n",
            " [5.52277778e+02 1.00000000e+00 2.12222222e+01 9.00000000e+00\n",
            "  1.08944444e+02 5.00968983e+06 0.00000000e+00 0.00000000e+00\n",
            "  0.00000000e+00 0.00000000e+00 1.66666667e-01 1.11111111e-01\n",
            "  1.00000000e+00 5.55555556e-02 1.11111111e-01 5.00000000e-01\n",
            "  0.00000000e+00 0.00000000e+00 0.00000000e+00 0.00000000e+00\n",
            "  0.00000000e+00 0.00000000e+00 1.11111111e+00 1.11111111e+00\n",
            "  0.00000000e+00 0.00000000e+00 0.00000000e+00 0.00000000e+00\n",
            "  1.00000000e+00 0.00000000e+00 0.00000000e+00 4.39444444e+01\n",
            "  2.61666667e+01 9.03333333e-01 2.22222222e-03 8.33888889e-01\n",
            "  5.55555556e-04 4.16666667e-02 4.77777778e-02 4.27777778e-02\n",
            "  0.00000000e+00]\n",
            " [4.83636364e+01 1.00000000e+00 5.43181818e+01 9.00000000e+00\n",
            "  5.57181818e+02 1.63601168e+06 0.00000000e+00 0.00000000e+00\n",
            "  0.00000000e+00 0.00000000e+00 0.00000000e+00 9.54545455e-01\n",
            "  0.00000000e+00 0.00000000e+00 0.00000000e+00 0.00000000e+00\n",
            "  0.00000000e+00 0.00000000e+00 0.00000000e+00 0.00000000e+00\n",
            "  0.00000000e+00 0.00000000e+00 1.04545455e+00 1.04545455e+00\n",
            "  0.00000000e+00 0.00000000e+00 0.00000000e+00 0.00000000e+00\n",
            "  1.00000000e+00 0.00000000e+00 0.00000000e+00 1.51545455e+02\n",
            "  3.10909091e+01 2.27727273e-01 3.27272727e-02 5.50000000e-02\n",
            "  4.31818182e-02 0.00000000e+00 0.00000000e+00 4.54545455e-04\n",
            "  0.00000000e+00]\n",
            " [3.66493902e+03 1.00000000e+00 1.97682927e+01 8.92682927e+00\n",
            "  4.31342730e+06 0.00000000e+00 0.00000000e+00 0.00000000e+00\n",
            "  0.00000000e+00 1.95121951e+00 0.00000000e+00 9.39024390e-01\n",
            "  0.00000000e+00 0.00000000e+00 0.00000000e+00 0.00000000e+00\n",
            "  0.00000000e+00 0.00000000e+00 0.00000000e+00 0.00000000e+00\n",
            "  0.00000000e+00 0.00000000e+00 1.20731707e+00 1.50000000e+00\n",
            "  1.21951220e-02 1.39024390e-02 1.21951220e-02 1.21951220e-02\n",
            "  9.83780488e-01 3.25609756e-02 4.14634146e-02 5.38414634e+01\n",
            "  4.23780488e+01 7.39390244e-01 3.68292683e-02 7.69878049e-01\n",
            "  8.13414634e-02 7.80487805e-03 1.74390244e-02 6.46341463e-03\n",
            "  4.87804878e-04]\n",
            " [6.02925000e+02 1.00000000e+00 4.16625000e+01 8.85000000e+00\n",
            "  9.49040000e+03 3.92440237e+05 0.00000000e+00 0.00000000e+00\n",
            "  3.75000000e-02 3.75000000e-02 2.50000000e-02 9.37500000e-01\n",
            "  1.48250000e+01 2.50000000e-02 3.75000000e-02 1.60375000e+01\n",
            "  2.50000000e-02 0.00000000e+00 1.00000000e-01 0.00000000e+00\n",
            "  0.00000000e+00 0.00000000e+00 2.47500000e+00 3.61250000e+00\n",
            "  1.87500000e-02 1.33750000e-02 1.25000000e-02 1.38750000e-02\n",
            "  9.87500000e-01 2.50000000e-02 4.15000000e-02 1.27500000e+02\n",
            "  1.05475000e+02 5.03875000e-01 4.00000000e-02 7.60000000e-02\n",
            "  2.32500000e-02 1.25000000e-02 1.85000000e-02 1.60000000e-02\n",
            "  2.38750000e-02]\n",
            " [2.00000000e+00 1.00000000e+00 1.70000000e+01 2.00000000e+00\n",
            "  6.93375640e+08 0.00000000e+00 0.00000000e+00 0.00000000e+00\n",
            "  0.00000000e+00 1.00000000e+00 0.00000000e+00 0.00000000e+00\n",
            "  0.00000000e+00 0.00000000e+00 0.00000000e+00 0.00000000e+00\n",
            "  0.00000000e+00 0.00000000e+00 0.00000000e+00 0.00000000e+00\n",
            "  0.00000000e+00 0.00000000e+00 5.70000000e+01 3.00000000e+00\n",
            "  7.90000000e-01 6.70000000e-01 2.10000000e-01 3.30000000e-01\n",
            "  5.00000000e-02 3.90000000e-01 0.00000000e+00 2.55000000e+02\n",
            "  3.00000000e+00 1.00000000e-02 9.00000000e-02 2.20000000e-01\n",
            "  0.00000000e+00 1.80000000e-01 6.70000000e-01 5.00000000e-02\n",
            "  3.30000000e-01]]\n",
            "============================\n",
            "\n",
            "\n",
            "For K = 7:\n",
            "(7,41)\n",
            "25) dM = 4094933789.262665\n",
            "Total iterations number = 49\n",
            "cluster 1 ==> 21\n",
            "cluster 2 ==> 490339\n",
            "cluster 3 ==> 69\n",
            "cluster 4 ==> 3491\n",
            "cluster 5 ==> 82\n",
            "cluster 6 ==> 18\n",
            "cluster 7 ==> 1\n",
            "Result Centroids:\n",
            "[[4.86666667e+01 1.00000000e+00 5.42380952e+01 9.00000000e+00\n",
            "  5.47523810e+02 1.66558667e+06 0.00000000e+00 0.00000000e+00\n",
            "  0.00000000e+00 0.00000000e+00 0.00000000e+00 9.52380952e-01\n",
            "  0.00000000e+00 0.00000000e+00 0.00000000e+00 0.00000000e+00\n",
            "  0.00000000e+00 0.00000000e+00 0.00000000e+00 0.00000000e+00\n",
            "  0.00000000e+00 0.00000000e+00 1.04761905e+00 1.04761905e+00\n",
            "  0.00000000e+00 0.00000000e+00 0.00000000e+00 0.00000000e+00\n",
            "  1.00000000e+00 0.00000000e+00 0.00000000e+00 1.46619048e+02\n",
            "  3.10476190e+01 2.32380952e-01 3.33333333e-02 5.76190476e-02\n",
            "  4.52380952e-02 0.00000000e+00 0.00000000e+00 4.76190476e-04\n",
            "  0.00000000e+00]\n",
            " [4.71886817e+01 4.63130610e-01 2.34110442e+01 7.83394549e+00\n",
            "  9.08795907e+02 3.48874562e+02 4.48669186e-05 6.48123033e-03\n",
            "  4.07881078e-06 3.42640500e-02 1.40718972e-04 1.41914064e-01\n",
            "  4.79668148e-03 7.95368102e-05 8.15762156e-06 5.44317299e-03\n",
            "  8.03525724e-04 1.08088486e-04 9.56481128e-04 0.00000000e+00\n",
            "  0.00000000e+00 1.39699269e-03 3.34737861e+02 2.95044186e+02\n",
            "  1.77972790e-01 1.77897944e-01 5.78520371e-02 5.81299468e-02\n",
            "  7.89990782e-01 2.11255478e-02 2.84262113e-02 2.33308503e+02\n",
            "  1.88320907e+02 7.52211266e-01 3.11080497e-02 6.05704768e-01\n",
            "  6.53914945e-03 1.78041192e-01 1.77737892e-01 5.84974681e-02\n",
            "  5.77712766e-02]\n",
            " [5.42449275e+02 1.00000000e+00 4.28260870e+01 8.92753623e+00\n",
            "  1.09025362e+04 4.33171029e+05 0.00000000e+00 0.00000000e+00\n",
            "  4.34782609e-02 1.44927536e-02 2.89855072e-02 9.42028986e-01\n",
            "  1.71884058e+01 2.89855072e-02 4.34782609e-02 1.85942029e+01\n",
            "  2.89855072e-02 0.00000000e+00 1.15942029e-01 0.00000000e+00\n",
            "  0.00000000e+00 0.00000000e+00 2.04347826e+00 2.52173913e+00\n",
            "  2.17391304e-02 1.55072464e-02 0.00000000e+00 1.59420290e-03\n",
            "  9.85507246e-01 2.89855072e-02 3.73913043e-02 1.36753623e+02\n",
            "  9.53188406e+01 4.71304348e-01 4.34782609e-02 8.04347826e-02\n",
            "  2.15942029e-02 1.42028986e-02 1.95652174e-02 1.69565217e-02\n",
            "  2.23188406e-02]\n",
            " [6.17052421e+01 1.00000000e+00 2.26362074e+01 8.97822973e+00\n",
            "  3.59362647e+02 2.94946763e+04 0.00000000e+00 0.00000000e+00\n",
            "  5.72901747e-04 2.57805786e-02 2.86450874e-04 9.98854197e-01\n",
            "  4.26525351e-01 3.72386136e-03 2.57805786e-03 4.71784589e-01\n",
            "  3.98166714e-02 2.86450874e-04 6.01546835e-03 0.00000000e+00\n",
            "  0.00000000e+00 0.00000000e+00 5.94156402e+00 8.58693784e+00\n",
            "  4.76367803e-03 4.37696935e-03 1.42938986e-03 2.73560584e-03\n",
            "  9.99713549e-01 5.72901747e-04 1.09014609e-01 1.22375251e+02\n",
            "  2.44210828e+02 9.82578058e-01 2.21712976e-03 8.09567459e-02\n",
            "  2.47121169e-02 4.89258092e-03 2.93039244e-03 7.21856202e-03\n",
            "  9.49584646e-03]\n",
            " [3.66493902e+03 1.00000000e+00 1.97682927e+01 8.92682927e+00\n",
            "  4.31342730e+06 0.00000000e+00 0.00000000e+00 0.00000000e+00\n",
            "  0.00000000e+00 1.95121951e+00 0.00000000e+00 9.39024390e-01\n",
            "  0.00000000e+00 0.00000000e+00 0.00000000e+00 0.00000000e+00\n",
            "  0.00000000e+00 0.00000000e+00 0.00000000e+00 0.00000000e+00\n",
            "  0.00000000e+00 0.00000000e+00 1.20731707e+00 1.50000000e+00\n",
            "  1.21951220e-02 1.39024390e-02 1.21951220e-02 1.21951220e-02\n",
            "  9.83780488e-01 3.25609756e-02 4.14634146e-02 5.38414634e+01\n",
            "  4.23780488e+01 7.39390244e-01 3.68292683e-02 7.69878049e-01\n",
            "  8.13414634e-02 7.80487805e-03 1.74390244e-02 6.46341463e-03\n",
            "  4.87804878e-04]\n",
            " [5.52277778e+02 1.00000000e+00 2.12222222e+01 9.00000000e+00\n",
            "  1.08944444e+02 5.00968983e+06 0.00000000e+00 0.00000000e+00\n",
            "  0.00000000e+00 0.00000000e+00 1.66666667e-01 1.11111111e-01\n",
            "  1.00000000e+00 5.55555556e-02 1.11111111e-01 5.00000000e-01\n",
            "  0.00000000e+00 0.00000000e+00 0.00000000e+00 0.00000000e+00\n",
            "  0.00000000e+00 0.00000000e+00 1.11111111e+00 1.11111111e+00\n",
            "  0.00000000e+00 0.00000000e+00 0.00000000e+00 0.00000000e+00\n",
            "  1.00000000e+00 0.00000000e+00 0.00000000e+00 4.39444444e+01\n",
            "  2.61666667e+01 9.03333333e-01 2.22222222e-03 8.33888889e-01\n",
            "  5.55555556e-04 4.16666667e-02 4.77777778e-02 4.27777778e-02\n",
            "  0.00000000e+00]\n",
            " [2.00000000e+00 1.00000000e+00 1.70000000e+01 2.00000000e+00\n",
            "  6.93375640e+08 0.00000000e+00 0.00000000e+00 0.00000000e+00\n",
            "  0.00000000e+00 1.00000000e+00 0.00000000e+00 0.00000000e+00\n",
            "  0.00000000e+00 0.00000000e+00 0.00000000e+00 0.00000000e+00\n",
            "  0.00000000e+00 0.00000000e+00 0.00000000e+00 0.00000000e+00\n",
            "  0.00000000e+00 0.00000000e+00 5.70000000e+01 3.00000000e+00\n",
            "  7.90000000e-01 6.70000000e-01 2.10000000e-01 3.30000000e-01\n",
            "  5.00000000e-02 3.90000000e-01 0.00000000e+00 2.55000000e+02\n",
            "  3.00000000e+00 1.00000000e-02 9.00000000e-02 2.20000000e-01\n",
            "  0.00000000e+00 1.80000000e-01 6.70000000e-01 5.00000000e-02\n",
            "  3.30000000e-01]]\n",
            "============================\n",
            "\n",
            "\n"
          ]
        }
      ]
    },
    {
      "cell_type": "code",
      "source": [
        "centroids_k15 = get_centroids_with_random_restarts(15)"
      ],
      "metadata": {
        "id": "Y1ZVVHOLmXJP"
      },
      "execution_count": null,
      "outputs": []
    },
    {
      "cell_type": "markdown",
      "source": [
        "For K = 15:  \n",
        "(15,41)  \n",
        "25) dM = 176552658.30320373  \n",
        "50) dM = 19549862.37463402  \n",
        "Total iterations number = 68  \n",
        "cluster 1 ==> 53067  \n",
        "cluster 2 ==> 237667  \n",
        "cluster 3 ==> 88  \n",
        "cluster 4 ==> 574  \n",
        "cluster 5 ==> 52  \n",
        "cluster 6 ==> 82  \n",
        "cluster 7 ==> 9928  \n",
        "cluster 8 ==> 185029  \n",
        "cluster 9 ==> 18  \n",
        "cluster 10 ==> 2340  \n",
        "cluster 11 ==> 20  \n",
        "cluster 12 ==> 1769  \n",
        "cluster 13 ==> 1  \n",
        "cluster 14 ==> 17  \n",
        "cluster 15 ==> 3369  \n",
        "\n",
        "For K = 15:  \n",
        "(15,41)  \n",
        "25) dM = 124287064.74056992  \n",
        "50) dM = 50880654.55105877  \n",
        "75) dM = 83302.82444131857  \n",
        "100) dM = 12206848.447218515  \n",
        "125) dM = 721334.3773999268  \n",
        "Total iterations number = 140  \n",
        "cluster 1 ==> 82  \n",
        "cluster 2 ==> 124   \n",
        "cluster 3 ==> 2340  \n",
        "cluster 4 ==> 6  \n",
        "cluster 5 ==> 24  \n",
        "cluster 6 ==> 3369  \n",
        "cluster 7 ==> 574  \n",
        "cluster 8 ==> 1  \n",
        "cluster 9 ==> 290813  \n",
        "cluster 10 ==> 10173  \n",
        "cluster 11 ==> 55  \n",
        "cluster 12 ==> 1883  \n",
        "cluster 13 ==> 184542  \n",
        "cluster 14 ==> 17  \n",
        "cluster 15 ==> 18  \n",
        "\n",
        "For K = 15:  \n",
        "(15,41)  \n",
        "25) dM = 44898125.237195335  \n",
        "50) dM = 8699896.736135526  \n",
        "Total iterations number = 69  \n",
        "cluster 1 ==> 53067  \n",
        "cluster 2 ==> 237667  \n",
        "cluster 3 ==> 20  \n",
        "cluster 4 ==> 17  \n",
        "cluster 5 ==> 52  \n",
        "cluster 6 ==> 88  \n",
        "cluster 7 ==> 18  \n",
        "cluster 8 ==> 185029  \n",
        "cluster 9 ==> 82  \n",
        "cluster 10 ==> 3369  \n",
        "cluster 11 ==> 1769  \n",
        "cluster 12 ==> 9928  \n",
        "cluster 13 ==> 1  \n",
        "cluster 14 ==> 2340  \n",
        "cluster 15 ==> 574  "
      ],
      "metadata": {
        "id": "aF1vevFeTkWe"
      }
    },
    {
      "cell_type": "code",
      "source": [
        "centroids_k23 = get_centroids_with_random_restarts(23)"
      ],
      "metadata": {
        "id": "p_cIIDnEmeKn"
      },
      "execution_count": null,
      "outputs": []
    },
    {
      "cell_type": "markdown",
      "source": [
        "For K = 23:\n",
        "(23,41)\n",
        "25) dM = 4018382044.442143\n",
        "50) dM = 49871134.11411251\n",
        "75) dM = 8926321558.06701\n",
        "100) dM = 49600953.17906812\n",
        "Total iterations number = 121\n",
        "cluster 1 ==> 52793\n",
        "cluster 2 ==> 3109\n",
        "cluster 3 ==> 82\n",
        "cluster 4 ==> 739\n",
        "cluster 5 ==> 1\n",
        "cluster 6 ==> 236191\n",
        "cluster 7 ==> 5\n",
        "cluster 8 ==> 56\n",
        "cluster 9 ==> 20389\n",
        "cluster 10 ==> 3088\n",
        "cluster 11 ==> 748\n",
        "cluster 12 ==> 1143\n",
        "cluster 13 ==> 18\n",
        "cluster 14 ==> 209\n",
        "cluster 15 ==> 15\n",
        "cluster 16 ==> 42\n",
        "cluster 17 ==> 106\n",
        "cluster 18 ==> 20\n",
        "cluster 19 ==> 2271\n",
        "cluster 20 ==> 164442\n",
        "cluster 21 ==> 6887\n",
        "cluster 22 ==> 266\n",
        "cluster 23 ==> 1401\n",
        "\n",
        "For K = 23:\n",
        "(23,41)\n",
        "25) dM = 176315415.14432776\n",
        "50) dM = 216641655.92633724\n",
        "75) dM = 364482867.0527531\n",
        "100) dM = 1150005352.5502946\n",
        "125) dM = 0.37674285985942724\n",
        "Total iterations number = 129\n",
        "cluster 1 ==> 5\n",
        "cluster 2 ==> 52793\n",
        "cluster 3 ==> 18\n",
        "cluster 4 ==> 163659\n",
        "cluster 5 ==> 227911\n",
        "cluster 6 ==> 573\n",
        "cluster 7 ==> 903\n",
        "cluster 8 ==> 56\n",
        "cluster 9 ==> 1401\n",
        "cluster 10 ==> 15\n",
        "cluster 11 ==> 20421\n",
        "cluster 12 ==> 1\n",
        "cluster 13 ==> 2271\n",
        "cluster 14 ==> 682\n",
        "cluster 15 ==> 3366\n",
        "cluster 16 ==> 106\n",
        "cluster 17 ==> 42\n",
        "cluster 18 ==> 6895\n",
        "cluster 19 ==> 3109\n",
        "cluster 20 ==> 9426\n",
        "cluster 21 ==> 266\n",
        "cluster 22 ==> 82\n",
        "cluster 23 ==> 20\n",
        "\n",
        "For K = 23:\n",
        "(23,41)\n",
        "25) dM = 369533834.791988\n",
        "50) dM = 23397387.3411346\n",
        "75) dM = 8932741363.903055\n",
        "100) dM = 4246883.8676567655\n",
        "125) dM = 6187801659.386045\n",
        "150) dM = 92941.46517563534\n",
        "175) dM = 3667281.351634036\n",
        "200) dM = 619723.9368142623\n",
        "225) dM = 152.06420786243817\n",
        "Total iterations number = 243\n",
        "cluster 1 ==> 739\n",
        "cluster 2 ==> 289907\n",
        "cluster 3 ==> 10\n",
        "cluster 4 ==> 2310\n",
        "cluster 5 ==> 82\n",
        "cluster 6 ==> 209\n",
        "cluster 7 ==> 7194\n",
        "cluster 8 ==> 21281\n",
        "cluster 9 ==> 3621\n",
        "cluster 10 ==> 62\n",
        "cluster 11 ==> 20\n",
        "cluster 12 ==> 27\n",
        "cluster 13 ==> 1247\n",
        "cluster 14 ==> 738\n",
        "cluster 15 ==> 235\n",
        "cluster 16 ==> 5\n",
        "cluster 17 ==> 3088\n",
        "cluster 18 ==> 1\n",
        "cluster 19 ==> 161755\n",
        "cluster 20 ==> 12\n",
        "cluster 21 ==> 35\n",
        "cluster 22 ==> 18\n",
        "cluster 23 ==> 1425\n"
      ],
      "metadata": {
        "id": "chV_HU1aUH3_"
      }
    },
    {
      "cell_type": "code",
      "source": [
        "centroids_k31 = get_centroids_with_random_restarts(31)"
      ],
      "metadata": {
        "id": "wA1jlv69mgy0"
      },
      "execution_count": null,
      "outputs": []
    },
    {
      "cell_type": "markdown",
      "source": [
        "For K = 31:\n",
        "(31,41)\n",
        "25) dM = 3194024124.0092025\n",
        "50) dM = 11925505.397964254\n",
        "75) dM = 7629647.021045925\n",
        "100) dM = 1756525.4763086035\n",
        "125) dM = 515801005.57846195\n",
        "150) dM = 624430.175885238\n",
        "175) dM = 5822586.891821563\n",
        "200) dM = 15818901.336138532\n",
        "Total iterations number = 219\n",
        "cluster 1 ==> 60\n",
        "cluster 2 ==> 34941\n",
        "cluster 3 ==> 10018\n",
        "cluster 4 ==> 17859\n",
        "cluster 5 ==> 227854\n",
        "cluster 6 ==> 573\n",
        "cluster 7 ==> 150630\n",
        "cluster 8 ==> 12\n",
        "cluster 9 ==> 1\n",
        "cluster 10 ==> 105\n",
        "cluster 11 ==> 3556\n",
        "cluster 12 ==> 3364\n",
        "cluster 13 ==> 711\n",
        "cluster 14 ==> 5\n",
        "cluster 15 ==> 18\n",
        "cluster 16 ==> 10\n",
        "cluster 17 ==> 186\n",
        "cluster 18 ==> 19\n",
        "cluster 19 ==> 2271\n",
        "cluster 20 ==> 1082\n",
        "cluster 21 ==> 20193\n",
        "cluster 22 ==> 535\n",
        "cluster 23 ==> 565\n",
        "cluster 24 ==> 1798\n",
        "cluster 25 ==> 43\n",
        "cluster 26 ==> 1332\n",
        "cluster 27 ==> 13\n",
        "cluster 28 ==> 9623\n",
        "cluster 29 ==> 5334\n",
        "cluster 30 ==> 1228\n",
        "cluster 31 ==> 82\n",
        "Result Centroids:\n",
        "[[2.61783333e+02 1.00000000e+00 2.65333333e+01 ... 7.50000000e-03\n",
        "  7.50000000e-03 1.15000000e-02]\n",
        " [0.00000000e+00 1.14478693e-04 1.40014882e+01 ... 0.00000000e+00\n",
        "  0.00000000e+00 0.00000000e+00]\n",
        " [1.79716510e+00 1.00000000e+00 2.19703534e+01 ... 9.46296666e-04\n",
        "  4.46097025e-03 6.58315033e-03]\n",
        " ...\n",
        " [1.08997000e+01 1.00000000e+00 2.21361080e+01 ... 1.13798275e-03\n",
        "  6.76040495e-03 9.89313836e-03]\n",
        " [2.35586319e+00 1.00000000e+00 3.91986971e+01 ... 3.95765472e-03\n",
        "  9.57654723e-03 9.77198697e-04]\n",
        " [3.66493902e+03 1.00000000e+00 1.97682927e+01 ... 1.74390244e-02\n",
        "  6.46341463e-03 4.87804878e-04]]\n",
        "\n",
        "\n",
        "\n",
        "For K = 31:\n",
        "(31,41)\n",
        "25) dM = 743184423.806469\n",
        "50) dM = 50415587.1304739\n",
        "75) dM = 688839752.6036332\n",
        "100) dM = 12442837.595616465\n",
        "125) dM = 6526944.020444147\n",
        "150) dM = 428568.5162675529\n",
        "175) dM = 7831240.408963785\n",
        "200) dM = 66607.47046130704\n",
        "225) dM = 81429.22756300244\n",
        "250) dM = 187882.00290442008\n",
        "275) dM = 37221588.757800065\n",
        "MAX Number of Iterations! algorithm STOPPED\n",
        "cluster 1 ==> 209\n",
        "cluster 2 ==> 52795\n",
        "cluster 3 ==> 12\n",
        "cluster 4 ==> 151365\n",
        "cluster 5 ==> 227904\n",
        "cluster 6 ==> 3087\n",
        "cluster 7 ==> 17\n",
        "cluster 8 ==> 20157\n",
        "cluster 9 ==> 41\n",
        "cluster 10 ==> 13\n",
        "cluster 11 ==> 18\n",
        "cluster 12 ==> 682\n",
        "cluster 13 ==> 10\n",
        "cluster 14 ==> 1081\n",
        "cluster 15 ==> 3489\n",
        "cluster 16 ==> 10028\n",
        "cluster 17 ==> 1334\n",
        "cluster 18 ==> 1\n",
        "cluster 19 ==> 2271\n",
        "cluster 20 ==> 9628\n",
        "cluster 21 ==> 106\n",
        "cluster 22 ==> 82\n",
        "cluster 23 ==> 905\n",
        "cluster 24 ==> 5\n",
        "cluster 25 ==> 209\n",
        "cluster 26 ==> 76\n",
        "cluster 27 ==> 1813\n",
        "cluster 28 ==> 40\n",
        "cluster 29 ==> 5299\n",
        "cluster 30 ==> 606\n",
        "cluster 31 ==> 738\n",
        "Result Centroids:\n",
        "[[2.27332249e+04 1.71291866e+00 3.97894737e+01 ... 3.82775120e-04\n",
        "  2.52200957e-01 2.76507177e-01]\n",
        " [0.00000000e+00 1.36376551e-03 1.40177290e+01 ... 0.00000000e+00\n",
        "  0.00000000e+00 0.00000000e+00]\n",
        " [3.89166667e+01 1.00000000e+00 5.60000000e+01 ... 0.00000000e+00\n",
        "  0.00000000e+00 0.00000000e+00]\n",
        " ...\n",
        " [4.40169811e+00 1.00000000e+00 2.21535849e+01 ... 1.09433962e-03\n",
        "  6.40754717e-03 9.02452830e-03]\n",
        " [2.20841584e+01 1.00000000e+00 2.25379538e+01 ... 2.24422442e-03\n",
        "  9.76897690e-03 9.85148515e-03]\n",
        " [1.05996070e+04 1.90785908e+00 3.87520325e+01 ... 3.75338753e-03\n",
        "  3.13550136e-02 4.07452575e-02]]\n",
        "\n",
        "\n",
        "\n",
        "\n",
        "For K = 31:\n",
        "(31,41)\n",
        "25) dM = 87236541.37234738\n",
        "50) dM = 58055614.31950802\n",
        "75) dM = 30962830835.173763\n",
        "100) dM = 9842411.41093181\n",
        "125) dM = 1900942791.4920065\n",
        "150) dM = 14705285.007585887\n",
        "175) dM = 5704600.6607852\n",
        "200) dM = 4328498.992352758\n",
        "225) dM = 967.7896495506602\n",
        "Total iterations number = 246\n",
        "cluster 1 ==> 12\n",
        "cluster 2 ==> 33986\n",
        "cluster 3 ==> 10\n",
        "cluster 4 ==> 20\n",
        "cluster 5 ==> 2271\n",
        "cluster 6 ==> 227855\n",
        "cluster 7 ==> 5\n",
        "cluster 8 ==> 105\n",
        "cluster 9 ==> 9584\n",
        "cluster 10 ==> 641\n",
        "cluster 11 ==> 157048\n",
        "cluster 12 ==> 6984\n",
        "cluster 13 ==> 1210\n",
        "cluster 14 ==> 18\n",
        "cluster 15 ==> 62\n",
        "cluster 16 ==> 1\n",
        "cluster 17 ==> 35\n",
        "cluster 18 ==> 11830\n",
        "cluster 19 ==> 6848\n",
        "cluster 20 ==> 82\n",
        "cluster 21 ==> 1225\n",
        "cluster 22 ==> 27\n",
        "cluster 23 ==> 739\n",
        "cluster 24 ==> 4459\n",
        "cluster 25 ==> 233\n",
        "cluster 26 ==> 21547\n",
        "cluster 27 ==> 565\n",
        "cluster 28 ==> 711\n",
        "cluster 29 ==> 2612\n",
        "cluster 30 ==> 209\n",
        "cluster 31 ==> 3087\n",
        "Result Centroids:\n",
        "[[3.89166667e+01 1.00000000e+00 5.60000000e+01 ... 0.00000000e+00\n",
        "  0.00000000e+00 0.00000000e+00]\n",
        " [0.00000000e+00 5.88477608e-05 1.40007650e+01 ... 0.00000000e+00\n",
        "  0.00000000e+00 0.00000000e+00]\n",
        " [3.20000000e+01 1.00000000e+00 4.52000000e+01 ... 0.00000000e+00\n",
        "  1.00000000e-03 0.00000000e+00]\n",
        " ...\n",
        " [1.50647014e+01 1.00000000e+00 2.22584227e+01 ... 1.55053599e-03\n",
        "  5.17228178e-03 8.18912711e-03]\n",
        " [2.27332249e+04 1.71291866e+00 3.97894737e+01 ... 3.82775120e-04\n",
        "  2.52200957e-01 2.76507177e-01]\n",
        " [3.18959864e+03 1.99546485e+00 3.98270165e+01 ... 0.00000000e+00\n",
        "  8.06608358e-04 9.78296080e-04]]\n",
        "\n",
        "\n"
      ],
      "metadata": {
        "id": "4oe0zdCTUeuX"
      }
    },
    {
      "cell_type": "code",
      "source": [
        "centroids_k45 = get_centroids_with_random_restarts(45)"
      ],
      "metadata": {
        "id": "KWSyxKR5mjPl"
      },
      "execution_count": null,
      "outputs": []
    },
    {
      "cell_type": "markdown",
      "source": [
        "For K = 45:\n",
        "(45,41)\n",
        "25) dM = 2458564268.439884\n",
        "50) dM = 16101180.849004028\n",
        "75) dM = 7758265.925369633\n",
        "100) dM = 312768660.19861686\n",
        "125) dM = 600884.0831698527\n",
        "150) dM = 14686328.398945857\n",
        "175) dM = 779317581.8920798\n",
        "200) dM = 280909.7899030334\n",
        "225) dM = 92489.47131992971\n",
        "250) dM = 1994.485004599017\n",
        "275) dM = 505.3507330533022\n",
        "MAX Number of Iterations! algorithm STOPPED\n",
        "cluster 1 ==> 3870\n",
        "cluster 2 ==> 52361\n",
        "cluster 3 ==> 17\n",
        "cluster 4 ==> 18\n",
        "cluster 5 ==> 52793\n",
        "cluster 6 ==> 200\n",
        "cluster 7 ==> 557\n",
        "cluster 8 ==> 2259\n",
        "cluster 9 ==> 4682\n",
        "cluster 10 ==> 227839\n",
        "cluster 11 ==> 13\n",
        "cluster 12 ==> 74\n",
        "cluster 13 ==> 17694\n",
        "cluster 14 ==> 899\n",
        "cluster 15 ==> 781\n",
        "cluster 16 ==> 21701\n",
        "cluster 17 ==> 428\n",
        "cluster 18 ==> 19159\n",
        "cluster 19 ==> 2928\n",
        "cluster 20 ==> 620\n",
        "cluster 21 ==> 3513\n",
        "cluster 22 ==> 40\n",
        "cluster 23 ==> 12\n",
        "cluster 24 ==> 1\n",
        "cluster 25 ==> 82\n",
        "cluster 26 ==> 487\n",
        "cluster 27 ==> 7853\n",
        "cluster 28 ==> 1296\n",
        "cluster 29 ==> 19393\n",
        "cluster 30 ==> 5\n",
        "cluster 31 ==> 262\n",
        "cluster 32 ==> 105\n",
        "cluster 33 ==> 45\n",
        "cluster 34 ==> 2271\n",
        "cluster 35 ==> 5802\n",
        "cluster 36 ==> 1175\n",
        "cluster 37 ==> 11920\n",
        "cluster 38 ==> 996\n",
        "cluster 39 ==> 41\n",
        "cluster 40 ==> 10\n",
        "cluster 41 ==> 1870\n",
        "cluster 42 ==> 577\n",
        "cluster 43 ==> 24392\n",
        "cluster 44 ==> 2339\n",
        "cluster 45 ==> 641\n",
        "Result Centroids:\n",
        "[[2.64780362e+00 9.33074935e-01 4.54855297e+01 ... 2.22997416e-03\n",
        "  5.82170543e-03 1.16279070e-03]\n",
        " [1.23045778e+00 1.04373484e+00 4.37942362e+01 ... 7.11427398e-01\n",
        "  2.13726247e-01 2.11326178e-01]\n",
        " [1.27135294e+03 1.00000000e+00 4.78235294e+01 ... 4.17647059e-02\n",
        "  4.52941176e-02 8.23529412e-03]\n",
        " ...\n",
        " [1.43137094e+00 1.45137750e+00 2.61582896e+01 ... 2.20441128e-03\n",
        "  2.16254100e-01 2.04163660e-01]\n",
        " [1.37049808e+01 1.00000000e+00 2.21421882e+01 ... 1.16645381e-03\n",
        "  7.41592167e-03 1.17156237e-02]\n",
        " [1.49083463e+03 1.99063963e+00 3.94524181e+01 ... 0.00000000e+00\n",
        "  7.02028081e-03 8.51794072e-03]]\n",
        "\n",
        "\n",
        "\n",
        "For K = 45:\n",
        "(45,41)\n",
        "25) dM = 163454900.29276264\n",
        "50) dM = 38762963.84002216\n",
        "75) dM = 688051596.695631\n",
        "100) dM = 1269958.9733821794\n",
        "125) dM = 22708796.10904589\n",
        "150) dM = 2061889.0403148648\n",
        "175) dM = 110035.1157206646\n",
        "200) dM = 248339.53322846547\n",
        "225) dM = 14980459.284923058\n",
        "250) dM = 23667.67344113585\n",
        "275) dM = 243.61028684220042\n",
        "Total iterations number = 287\n",
        "cluster 1 ==> 30317\n",
        "cluster 2 ==> 3264\n",
        "cluster 3 ==> 33986\n",
        "cluster 4 ==> 10\n",
        "cluster 5 ==> 2271\n",
        "cluster 6 ==> 4468\n",
        "cluster 7 ==> 18\n",
        "cluster 8 ==> 41\n",
        "cluster 9 ==> 227841\n",
        "cluster 10 ==> 30000\n",
        "cluster 11 ==> 10448\n",
        "cluster 12 ==> 12606\n",
        "cluster 13 ==> 1990\n",
        "cluster 14 ==> 5616\n",
        "cluster 15 ==> 56753\n",
        "cluster 16 ==> 487\n",
        "cluster 17 ==> 1299\n",
        "cluster 18 ==> 818\n",
        "cluster 19 ==> 903\n",
        "cluster 20 ==> 429\n",
        "cluster 21 ==> 265\n",
        "cluster 22 ==> 82\n",
        "cluster 23 ==> 2555\n",
        "cluster 24 ==> 1148\n",
        "cluster 25 ==> 6984\n",
        "cluster 26 ==> 40\n",
        "cluster 27 ==> 13\n",
        "cluster 28 ==> 620\n",
        "cluster 29 ==> 1018\n",
        "cluster 30 ==> 28444\n",
        "cluster 31 ==> 5\n",
        "cluster 32 ==> 7519\n",
        "cluster 33 ==> 576\n",
        "cluster 34 ==> 12\n",
        "cluster 35 ==> 2543\n",
        "cluster 36 ==> 3724\n",
        "cluster 37 ==> 105\n",
        "cluster 38 ==> 200\n",
        "cluster 39 ==> 17\n",
        "cluster 40 ==> 74\n",
        "cluster 41 ==> 1\n",
        "cluster 42 ==> 11821\n",
        "cluster 43 ==> 2088\n",
        "cluster 44 ==> 557\n",
        "cluster 45 ==> 45\n",
        "Result Centroids:\n",
        "[[1.35237655e-03 1.00220998e+00 4.42017350e+01 ... 8.26186628e-01\n",
        "  1.72233071e-01 1.71603391e-01]\n",
        " [7.06801471e+00 1.00000000e+00 2.21755515e+01 ... 1.36948529e-03\n",
        "  6.45220588e-03 1.00490196e-02]\n",
        " [0.00000000e+00 5.88477608e-05 1.40007650e+01 ... 0.00000000e+00\n",
        "  0.00000000e+00 0.00000000e+00]\n",
        " ...\n",
        " [2.05977011e+02 1.21886973e+00 2.40383142e+01 ... 1.69540230e-03\n",
        "  1.20162835e-02 5.50766284e-03]\n",
        " [3.58707361e+00 1.00000000e+00 3.10377020e+01 ... 1.43626571e-03\n",
        "  1.39497307e-02 6.24775583e-03]\n",
        " [3.45650889e+04 1.13333333e+00 3.86888889e+01 ... 1.77777778e-03\n",
        "  7.40222222e-01 8.34222222e-01]]\n",
        "\n",
        "\n",
        "\n",
        "For K = 45:\n",
        "(45,41)\n",
        "25) dM = 3681628800.79655\n",
        "50) dM = 11189683.287676465\n",
        "75) dM = 5499578.289599714\n",
        "100) dM = 1475022.5529326445\n",
        "125) dM = 415667.6329125293\n",
        "150) dM = 2024220.1512852132\n",
        "175) dM = 376294.6710435486\n",
        "200) dM = 355184.3130726231\n",
        "225) dM = 14984748.237262001\n",
        "250) dM = 33680.49315630928\n",
        "275) dM = 750.1553095423969\n",
        "Total iterations number = 288\n",
        "cluster 1 ==> 2613\n",
        "cluster 2 ==> 33779\n",
        "cluster 3 ==> 903\n",
        "cluster 4 ==> 3868\n",
        "cluster 5 ==> 2543\n",
        "cluster 6 ==> 7531\n",
        "cluster 7 ==> 10513\n",
        "cluster 8 ==> 227840\n",
        "cluster 9 ==> 5\n",
        "cluster 10 ==> 557\n",
        "cluster 11 ==> 852\n",
        "cluster 12 ==> 1018\n",
        "cluster 13 ==> 59492\n",
        "cluster 14 ==> 5118\n",
        "cluster 15 ==> 200\n",
        "cluster 16 ==> 74\n",
        "cluster 17 ==> 7002\n",
        "cluster 18 ==> 17\n",
        "cluster 19 ==> 82\n",
        "cluster 20 ==> 1\n",
        "cluster 21 ==> 18\n",
        "cluster 22 ==> 29612\n",
        "cluster 23 ==> 13\n",
        "cluster 24 ==> 1303\n",
        "cluster 25 ==> 41\n",
        "cluster 26 ==> 4468\n",
        "cluster 27 ==> 266\n",
        "cluster 28 ==> 12614\n",
        "cluster 29 ==> 5733\n",
        "cluster 30 ==> 1179\n",
        "cluster 31 ==> 105\n",
        "cluster 32 ==> 5805\n",
        "cluster 33 ==> 2271\n",
        "cluster 34 ==> 40\n",
        "cluster 35 ==> 12\n",
        "cluster 36 ==> 436\n",
        "cluster 37 ==> 10\n",
        "cluster 38 ==> 45\n",
        "cluster 39 ==> 577\n",
        "cluster 40 ==> 1162\n",
        "cluster 41 ==> 1990\n",
        "cluster 42 ==> 620\n",
        "cluster 43 ==> 57942\n",
        "cluster 44 ==> 3264\n",
        "cluster 45 ==> 487\n",
        "Result Centroids:\n",
        "[[2.57073211e+03 1.99885189e+00 3.98882511e+01 ... 0.00000000e+00\n",
        "  4.01836969e-04 8.03673938e-04]\n",
        " [0.00000000e+00 5.92083839e-05 1.40007697e+01 ... 0.00000000e+00\n",
        "  0.00000000e+00 0.00000000e+00]\n",
        " [3.29490587e+01 1.00000000e+00 2.24894795e+01 ... 1.31782946e-03\n",
        "  8.58250277e-03 1.02547065e-02]\n",
        " ...\n",
        " [4.73468296e+00 1.04388872e+00 4.18614649e+01 ... 6.54313279e-01\n",
        "  2.18004211e-01 2.15608194e-01]\n",
        " [7.06801471e+00 1.00000000e+00 2.21755515e+01 ... 1.36948529e-03\n",
        "  6.45220588e-03 1.00490196e-02]\n",
        " [2.70677618e+01 1.00000000e+00 2.25995893e+01 ... 2.64887064e-03\n",
        "  1.17043121e-02 1.19917864e-02]]\n",
        "\n"
      ],
      "metadata": {
        "id": "HdtzpMh8Utk6"
      }
    },
    {
      "cell_type": "code",
      "source": [
        "# store_data(\"centroids_k7\", centroids_k7)\n",
        "# store_data(\"centroids_k15\", centroids_k15)\n",
        "# store_data(\"centroids_k23\", centroids_k23)\n",
        "# store_data(\"centroids_k31\", centroids_k31)\n",
        "# store_data(\"centroids_k45\", centroids_k45)"
      ],
      "metadata": {
        "id": "mGJ0vd6V-J5l"
      },
      "execution_count": null,
      "outputs": []
    },
    {
      "cell_type": "markdown",
      "source": [
        "Now, let's start working with the test set, and mapping each data point to a cluster, for each k."
      ],
      "metadata": {
        "id": "lTTxka0sImYE"
      }
    },
    {
      "cell_type": "markdown",
      "source": [
        "Functions used in prediction part:\n",
        "\n",
        "*   **switch():** given a value k, it returns the equivalent centroids.  \n",
        "*   **closest_centroid():** given a data point, and the array of centroids, it calculates all distances between the point and every centroid, then returns the index of the min distance (point is concidered part of cluster i).  \n",
        "*   **test_kmeans():** applies closest_centroid for each point in the test dataset.  "
      ],
      "metadata": {
        "id": "6uqPLZms_32f"
      }
    },
    {
      "cell_type": "code",
      "source": [
        "def switch(argument):\n",
        "  switcher = {\n",
        "    7: centroids_k7,\n",
        "    15: centroids_k15,\n",
        "    23: centroids_k23,\n",
        "    31: centroids_k31,\n",
        "    45: centroids_k45\n",
        "  }\n",
        "  return switcher.get(argument, \"Invalid argument\")"
      ],
      "metadata": {
        "id": "vSybsBH-qW8V"
      },
      "execution_count": null,
      "outputs": []
    },
    {
      "cell_type": "code",
      "source": [
        "def closest_centroid(point, centroids):\n",
        "  distances = np.sqrt(np.sum((centroids - point)**2, axis=1))\n",
        "  return np.argmin(distances)"
      ],
      "metadata": {
        "id": "B_oftk9Gs4o8"
      },
      "execution_count": null,
      "outputs": []
    },
    {
      "cell_type": "code",
      "source": [
        "# This function returns indexes from 0 to k-1, each index represent a cluster (prediction)\n",
        "def test_kmeans(k):\n",
        "  centroids = switch(k)\n",
        "  return np.apply_along_axis(closest_centroid, 1, test, centroids)"
      ],
      "metadata": {
        "id": "RCJ_Kl6XpzMc"
      },
      "execution_count": null,
      "outputs": []
    },
    {
      "cell_type": "code",
      "source": [
        "# centroids_k7 = load_saved_data(\"centroids_k7\")\n",
        "# centroids_k15 = load_saved_data(\"centroids_k15\")\n",
        "# centroids_k23 = load_saved_data(\"centroids_k23\")\n",
        "# centroids_k31 = load_saved_data(\"centroids_k31\")\n",
        "# centroids_k45 = load_saved_data(\"centroids_k45\")\n",
        "# test = load_saved_data(\"test\")\n",
        "# test_labeled = load_saved_data(\"test_labeled\")"
      ],
      "metadata": {
        "id": "ESb2GH5tiK0-"
      },
      "execution_count": null,
      "outputs": []
    },
    {
      "cell_type": "code",
      "source": [
        "print(test.shape)\n",
        "print(test_labeled.shape)"
      ],
      "metadata": {
        "colab": {
          "base_uri": "https://localhost:8080/"
        },
        "id": "YeoZ1i-Miwud",
        "outputId": "16225d29-bc13-422a-8d8d-f34e75f87a3f"
      },
      "execution_count": null,
      "outputs": [
        {
          "output_type": "stream",
          "name": "stdout",
          "text": [
            "(311029, 41)\n",
            "(311029, 42)\n"
          ]
        }
      ]
    },
    {
      "cell_type": "markdown",
      "source": [
        "Calculated data here:\n",
        "\n",
        "test_kmeans_clusters_k7, ..15, ..23, ..31, ..45, (predicted labels)  \n",
        "test_kmeans_true (actual labels (last column ofthe test dataset))"
      ],
      "metadata": {
        "id": "YhdOxOAtBNkP"
      }
    },
    {
      "cell_type": "code",
      "source": [
        "test_kmeans_clusters_k7 = test_kmeans(7)\n",
        "print(len(test_kmeans_clusters_k7))\n",
        "print(test_kmeans_clusters_k7[:30])"
      ],
      "metadata": {
        "id": "E4ZzFfv8uqfR",
        "colab": {
          "base_uri": "https://localhost:8080/"
        },
        "outputId": "0487820b-3ba4-4c12-d21c-f8cd7766533f"
      },
      "execution_count": null,
      "outputs": [
        {
          "output_type": "stream",
          "name": "stdout",
          "text": [
            "311029\n",
            "[1 1 1 1 1 1 1 1 1 1 1 1 1 1 1 1 1 1 1 1 1 1 1 1 3 1 1 1 1 1]\n"
          ]
        }
      ]
    },
    {
      "cell_type": "code",
      "source": [
        "test_kmeans_clusters_k15 = test_kmeans(15)\n",
        "print(test_kmeans_clusters_k15[:30])"
      ],
      "metadata": {
        "id": "G5f52-2nw991",
        "colab": {
          "base_uri": "https://localhost:8080/"
        },
        "outputId": "3e92dff2-a7d6-4697-c1a7-0c938197510f"
      },
      "execution_count": null,
      "outputs": [
        {
          "output_type": "stream",
          "name": "stdout",
          "text": [
            "[ 7  7  7  7  7  7  7  7  7  7  7  7  7  7  1 11  7  7  7  7 11  7  7 11\n",
            " 11  0  7 13  1  7]\n"
          ]
        }
      ]
    },
    {
      "cell_type": "code",
      "source": [
        "test_kmeans_clusters_k23 = test_kmeans(23)\n",
        "print(test_kmeans_clusters_k23[:30])"
      ],
      "metadata": {
        "id": "Ubh_Zyxtw_N0",
        "colab": {
          "base_uri": "https://localhost:8080/"
        },
        "outputId": "0dd4a8cb-76be-4459-aeb5-b84b97a3ab2c"
      },
      "execution_count": null,
      "outputs": [
        {
          "output_type": "stream",
          "name": "stdout",
          "text": [
            "[ 3  3  3  3  3  3  3  3  3  3  3  3  3  3 19 18 10  3  3  3 17  3  3 17\n",
            " 18  3  3 15  6  3]\n"
          ]
        }
      ]
    },
    {
      "cell_type": "code",
      "source": [
        "test_kmeans_clusters_k31 = test_kmeans(31)\n",
        "print(test_kmeans_clusters_k31[:30])"
      ],
      "metadata": {
        "id": "dM4eH9rYxAnn",
        "colab": {
          "base_uri": "https://localhost:8080/"
        },
        "outputId": "888c1091-66b7-43dc-8c92-70b360a11163"
      },
      "execution_count": null,
      "outputs": [
        {
          "output_type": "stream",
          "name": "stdout",
          "text": [
            "[ 3  3  3  3  3  3  3  3  3  3  3  3  3  3 19 14 15  7  3  3 14  3  3 28\n",
            " 26  3  3 20 22  3]\n"
          ]
        }
      ]
    },
    {
      "cell_type": "code",
      "source": [
        "test_kmeans_clusters_k45 = test_kmeans(45)\n",
        "print(len(test_kmeans_clusters_k45))\n",
        "print(test_kmeans_clusters_k45[:30])"
      ],
      "metadata": {
        "id": "KzmXmldlxC0t",
        "colab": {
          "base_uri": "https://localhost:8080/"
        },
        "outputId": "bbf882c1-d0e9-406d-c401-3e861a7413c1"
      },
      "execution_count": null,
      "outputs": [
        {
          "output_type": "stream",
          "name": "stdout",
          "text": [
            "311029\n",
            "[42 42 42 42 42 42 42 42 42 42 42 42 42 42 35 40  8 12 42 42 18 42 42 18\n",
            " 37 34 42 31 19 42]\n"
          ]
        }
      ]
    },
    {
      "cell_type": "code",
      "source": [
        "test_kmeans_true = test_labeled[:, -1].astype(int)\n",
        "print(test_kmeans_true.shape)"
      ],
      "metadata": {
        "colab": {
          "base_uri": "https://localhost:8080/"
        },
        "id": "xRbxbkvltUpF",
        "outputId": "eb0140d9-a086-41bb-9f53-b37418f3cc7c"
      },
      "execution_count": null,
      "outputs": [
        {
          "output_type": "stream",
          "name": "stdout",
          "text": [
            "(311029,)\n"
          ]
        }
      ]
    },
    {
      "cell_type": "markdown",
      "source": [
        "\n",
        "\n",
        "---\n",
        "\n"
      ],
      "metadata": {
        "id": "jW4lLOnYLNPd"
      }
    },
    {
      "cell_type": "markdown",
      "metadata": {
        "id": "hEsFrPf-rVCD"
      },
      "source": [
        "#3 Spectral Clustering"
      ]
    },
    {
      "cell_type": "code",
      "execution_count": null,
      "metadata": {
        "id": "EPma83kagr2T"
      },
      "outputs": [],
      "source": [
        "from sklearn.cluster import KMeans\n",
        "from sklearn.metrics.pairwise import rbf_kernel\n",
        "from scipy.spatial.distance import pdist, squareform\n",
        "\n",
        "def spectral_clustering(data_matrix, k):\n",
        "\n",
        "  data_matrix = data_matrix.astype(np.float32)\n",
        "\n",
        "  sim_matrix = rbf_kernel(data_matrix, gamma=0.1)\n",
        "  sim_matrix = sim_matrix.astype(np.float32)\n",
        "  np.fill_diagonal(sim_matrix, 0)\n",
        "  sim_matrix = sim_matrix + np.finfo(float).eps\n",
        "  # print(sim_matrix)\n",
        "  # sim matrix is symmetric so axis = 0 eq axis = 1\n",
        "\n",
        "  degree_matrix = np.diag(np.sum(sim_matrix, axis = 0))\n",
        "  # print(degree_matrix)\n",
        "\n",
        "  L_matrix = degree_matrix - sim_matrix\n",
        "  # print(L_matrix)\n",
        "\n",
        "  eigen_values, eigen_vectors = scipy.linalg.eigh(L_matrix, degree_matrix)\n",
        "  eigen_vectors = eigen_vectors[:,:k] / np.linalg.norm(eigen_vectors[:,:k], ord=2, axis=1, keepdims=True)\n",
        "  # print(eigen_vectors)\n",
        "\n",
        "  kmeans = KMeans(n_clusters=k)\n",
        "  kmeans.fit(eigen_vectors)\n",
        "  labels = kmeans.labels_\n",
        "  centroids = kmeans.cluster_centers_\n",
        "\n",
        "  return centroids , labels"
      ]
    },
    {
      "cell_type": "markdown",
      "source": [
        "work on 0.15 % of data\n",
        "we will suffle data and get percentage we want"
      ],
      "metadata": {
        "id": "9tY3Wyw1ulJM"
      }
    },
    {
      "cell_type": "code",
      "source": [
        "def sub_data(total_data, percentage):\n",
        "  rows = int((percentage/100) * total_data.shape[0])\n",
        "  sampled_data = total_data[np.random.choice(total_data.shape[0], rows, replace=False)]\n",
        "  return sampled_data\n"
      ],
      "metadata": {
        "id": "RTD4LY5cu6sw"
      },
      "execution_count": null,
      "outputs": []
    },
    {
      "cell_type": "code",
      "source": [
        "data_labeled_spectral.shape[0]"
      ],
      "metadata": {
        "colab": {
          "base_uri": "https://localhost:8080/"
        },
        "id": "M9q3tH_iw1cG",
        "outputId": "431c006d-c28d-4b7a-9c9a-c6fbd61cfff0"
      },
      "execution_count": null,
      "outputs": [
        {
          "output_type": "execute_result",
          "data": {
            "text/plain": [
              "4898431"
            ]
          },
          "metadata": {},
          "execution_count": 17
        }
      ]
    },
    {
      "cell_type": "code",
      "source": [
        "\n",
        "my_data = sub_data(data_labeled_spectral, 0.15)"
      ],
      "metadata": {
        "id": "3Tabefyuukw9"
      },
      "execution_count": null,
      "outputs": []
    },
    {
      "cell_type": "code",
      "source": [
        "print(\"new data shape: \",my_data.shape)\n",
        "print(\"unique labels : \",np.unique(my_data[:,-1]))"
      ],
      "metadata": {
        "colab": {
          "base_uri": "https://localhost:8080/"
        },
        "id": "ecg5VuCMxuTO",
        "outputId": "e0e5a684-2bd2-42e5-f22d-64d26eef7a17"
      },
      "execution_count": null,
      "outputs": [
        {
          "output_type": "stream",
          "name": "stdout",
          "text": [
            "new data shape:  (7347, 42)\n",
            "unique labels :  [ 0.  5.  9. 10. 11. 15. 17. 18. 21.]\n"
          ]
        }
      ]
    },
    {
      "cell_type": "code",
      "source": [
        "my_labels = my_data[:,-1]\n",
        "my_data = my_data[:,:-1]\n",
        "print(\"labels for our training data : \", my_labels)"
      ],
      "metadata": {
        "colab": {
          "base_uri": "https://localhost:8080/"
        },
        "id": "5WkqQANIyyDH",
        "outputId": "ddeeaac0-4f83-45b5-a89c-cadb2bd423d3"
      },
      "execution_count": null,
      "outputs": [
        {
          "output_type": "stream",
          "name": "stdout",
          "text": [
            "labels for our training data :  [ 9.  9. 11. ... 18. 18. 18.]\n"
          ]
        }
      ]
    },
    {
      "cell_type": "code",
      "source": [
        "spectral_centroids, spectral_labels = spectral_clustering(my_data, 45)\n",
        "\n",
        "\n",
        "print('centroids')\n",
        "print(spectral_centroids)\n",
        "print('labels')\n",
        "print(spectral_labels)"
      ],
      "metadata": {
        "colab": {
          "base_uri": "https://localhost:8080/"
        },
        "id": "cKf6K2sytWrQ",
        "outputId": "ae924136-ea62-4d6a-8c45-5c8711003632"
      },
      "execution_count": null,
      "outputs": [
        {
          "output_type": "stream",
          "name": "stderr",
          "text": [
            "/usr/local/lib/python3.9/dist-packages/sklearn/cluster/_kmeans.py:870: FutureWarning: The default value of `n_init` will change from 10 to 'auto' in 1.4. Set the value of `n_init` explicitly to suppress the warning\n",
            "  warnings.warn(\n"
          ]
        },
        {
          "output_type": "stream",
          "name": "stdout",
          "text": [
            "centroids\n",
            "[[ 1.57751143e-04  6.44510761e-02  9.91084427e-03 ... -6.26195222e-02\n",
            "   6.01242483e-03 -9.12979305e-01]\n",
            " [-4.08838063e-01  5.05626276e-02 -1.18001476e-01 ...  5.06272279e-02\n",
            "  -1.01702824e-01  3.06695998e-01]\n",
            " [-2.39976570e-02  1.05117410e-02 -6.66158348e-02 ... -1.34442374e-01\n",
            "  -3.59557092e-01 -6.38825521e-02]\n",
            " ...\n",
            " [ 2.36097947e-02 -4.30704981e-01 -1.65781118e-02 ... -7.00429976e-02\n",
            "   9.63579565e-02 -4.30561453e-02]\n",
            " [ 3.03500220e-02  4.60218862e-02  2.65812129e-03 ...  1.79892965e-02\n",
            "   3.98872644e-02 -7.57862814e-03]\n",
            " [ 5.20944595e-04  6.69089183e-02 -1.12795122e-02 ...  1.36796370e-01\n",
            "   7.45478570e-02 -7.47838765e-02]]\n",
            "labels\n",
            "[11 16  3 ...  1 11  1]\n"
          ]
        }
      ]
    },
    {
      "cell_type": "markdown",
      "source": [
        "Comparing the results of K-Means and Normalized Cut clustering in terms\n",
        "of the number of detected anomalies and their characteristics:  \n",
        "Let's run kmeans & clustering on k=23 and compare them:"
      ],
      "metadata": {
        "id": "KBAC9jIdwZ_E"
      }
    },
    {
      "cell_type": "code",
      "source": [
        "def get_normal_val_in_dict(dictio):\n",
        "  dict4 = dictio[41]\n",
        "  normal = 0\n",
        "  for key, value in dict4.items():\n",
        "    if(key == 'normal.'):\n",
        "      normal = value\n",
        "  print(normal)\n",
        "  return normal"
      ],
      "metadata": {
        "id": "DZAf5bv_2mmF"
      },
      "execution_count": null,
      "outputs": []
    },
    {
      "cell_type": "code",
      "source": [
        "def calculate_anomalies(labels, normal_val):\n",
        "  n1 = len(labels)\n",
        "  n2 = np.count_nonzero((labels==normal_val).astype(int))\n",
        "  return n1-n2"
      ],
      "metadata": {
        "id": "wJB3Zydu5GrT"
      },
      "execution_count": null,
      "outputs": []
    },
    {
      "cell_type": "code",
      "source": [
        "kmeans_normal = get_normal_val_in_dict(test_dict)\n",
        "spectral_normal = get_normal_val_in_dict(spectral_dict)\n",
        "anomalies_kmeans = []\n",
        "anomalies_spectral = []\n",
        "\n",
        "for i in range(len(Ks)-1):\n",
        "  _ , centroids_kmeans = run_Kmeans(Ks[i])\n",
        "  Kmeans_labels = np.apply_along_axis(closest_centroid, 1, test, centroids_kmeans)\n",
        "\n",
        "  _ , spectral_labels = spectral_clustering(my_data, Ks[i])\n",
        "\n",
        "  anomalies_kmeans.append(calculate_anomalies(Kmeans_labels, kmeans_normal))\n",
        "  anomalies_spectral.append(calculate_anomalies(spectral_labels, spectral_normal))"
      ],
      "metadata": {
        "id": "xZxkGNoA9cDs"
      },
      "execution_count": null,
      "outputs": []
    },
    {
      "cell_type": "code",
      "source": [
        "print(anomalies_kmeans)\n",
        "print(anomalies_spectral)"
      ],
      "metadata": {
        "colab": {
          "base_uri": "https://localhost:8080/"
        },
        "id": "OPzZ2XP-EA8X",
        "outputId": "9619bfe2-4900-434e-a4d5-15cd191632f4"
      },
      "execution_count": null,
      "outputs": [
        {
          "output_type": "stream",
          "name": "stdout",
          "text": [
            "[311029, 311029, 310564, 310766]\n",
            "[7347, 7213, 7292, 7315]\n"
          ]
        }
      ]
    },
    {
      "cell_type": "markdown",
      "source": [
        "![image.png](data:image/png;base64,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)"
      ],
      "metadata": {
        "id": "gF0uaCy1LAqE"
      }
    },
    {
      "cell_type": "code",
      "source": [
        "fig, ax = plt.subplots()\n",
        "ax.plot(Ks[:4], anomalies_kmeans, label='K-means anomalies')\n",
        "ax.plot(Ks[:4], anomalies_spectral, label='Spectral anomalies')\n",
        "ax.legend()\n",
        "ax.set_title('Anomalies Detected')\n",
        "plt.show()"
      ],
      "metadata": {
        "colab": {
          "base_uri": "https://localhost:8080/",
          "height": 452
        },
        "id": "JQM2_AzsEJj1",
        "outputId": "e8888615-aad0-4927-b230-1549e4fa4e5e"
      },
      "execution_count": null,
      "outputs": [
        {
          "output_type": "display_data",
          "data": {
            "text/plain": [
              "<Figure size 640x480 with 1 Axes>"
            ],
            "image/png": "[encoded data removed]"
          },
          "metadata": {}
        }
      ]
    },
    {
      "cell_type": "markdown",
      "metadata": {
        "id": "dpHCiauAcLvi"
      },
      "source": [
        "#4 validation and new technique"
      ]
    },
    {
      "cell_type": "code",
      "source": [
        "def map_predicted_labels(y_true, y_pred):\n",
        "    # Compute the adjusted Rand score between the true and predicted labels\n",
        "    score = adjusted_rand_score(y_true, y_pred)\n",
        "    print(\"Adjusted Rand score:\", score)\n",
        "\n",
        "    # Create a dictionary to map predicted labels to true labels\n",
        "    label_map = {}\n",
        "    true_labels = np.unique(y_true)\n",
        "    pred_labels = np.unique(y_pred)\n",
        "    for pred_label in pred_labels:\n",
        "        best_match = -1\n",
        "        for true_label in true_labels:\n",
        "            intersect = np.intersect1d(np.where(y_pred == pred_label), np.where(y_true == true_label))\n",
        "            if len(intersect) > best_match:\n",
        "                label_map[pred_label] = true_label\n",
        "                best_match = len(intersect)\n",
        "\n",
        "    # Map the predicted labels to the true labels\n",
        "    y_mapped = np.vectorize(label_map.get)(y_pred)\n",
        "\n",
        "    return y_mapped"
      ],
      "metadata": {
        "id": "44jrljoU4ME6"
      },
      "execution_count": null,
      "outputs": []
    },
    {
      "cell_type": "code",
      "source": [
        "import numpy as np\n",
        "from sklearn.metrics.cluster import contingency_matrix\n",
        "\n",
        "def validation(labels_true, labels_pred_):\n",
        "    \n",
        "    # we first map prediction labels to true labels\n",
        "    labels_pred = map_predicted_labels(labels_true, labels_pred_)\n",
        "    contingency = contingency_matrix(labels_true, labels_pred)\n",
        "    row_sums = np.sum(contingency, axis=1)\n",
        "    col_sums = np.sum(contingency, axis=0)\n",
        "    total_samples = np.sum(row_sums)\n",
        "    \n",
        "    # Precision\n",
        "    precision = np.sum(np.max(contingency, axis=0)) / total_samples\n",
        "    \n",
        "    # Recall\n",
        "    recall = np.sum(np.max(contingency, axis=1)) / total_samples\n",
        "    \n",
        "    # F-score\n",
        "    f_score = 2 * precision * recall / (precision + recall)\n",
        "    \n",
        "    # Conditional entropy\n",
        "    eps = np.finfo(float).eps\n",
        "    row_prob = row_sums / total_samples\n",
        "    col_prob = col_sums / total_samples\n",
        "    joint_prob = contingency / total_samples\n",
        "    entropy_row = -np.sum(row_prob * np.log2(row_prob + eps))\n",
        "    entropy_col = -np.sum(col_prob * np.log2(col_prob + eps))\n",
        "    entropy_joint = -np.sum(joint_prob * np.log2(joint_prob + eps))\n",
        "    conditional_entropy = entropy_joint - entropy_col\n",
        "    return precision, recall, f_score, conditional_entropy\n"
      ],
      "metadata": {
        "id": "S3D1tLyK8Kii"
      },
      "execution_count": null,
      "outputs": []
    },
    {
      "cell_type": "code",
      "source": [
        "print(\"count of each cluster in total labeled data in kddcup.data_10_percent.gz : \")\n",
        "for i in range(23):\n",
        "  print(\"cluster \"+str(i)+\" : \"+str(np.sum((data_spectral_labels==i) == True)))"
      ],
      "metadata": {
        "colab": {
          "base_uri": "https://localhost:8080/"
        },
        "id": "nMCDO7zxyDk-",
        "outputId": "7edcdb92-75c9-4ad8-8121-9c5be090c62a"
      },
      "execution_count": null,
      "outputs": [
        {
          "output_type": "stream",
          "name": "stdout",
          "text": [
            "count of each cluster in total labeled data in kddcup.data_10_percent.gz : \n",
            "cluster 0 : 2203\n",
            "cluster 1 : 30\n",
            "cluster 2 : 8\n",
            "cluster 3 : 53\n",
            "cluster 4 : 12\n",
            "cluster 5 : 12481\n",
            "cluster 6 : 21\n",
            "cluster 7 : 9\n",
            "cluster 8 : 7\n",
            "cluster 9 : 1072017\n",
            "cluster 10 : 2316\n",
            "cluster 11 : 972781\n",
            "cluster 12 : 3\n",
            "cluster 13 : 4\n",
            "cluster 14 : 264\n",
            "cluster 15 : 10413\n",
            "cluster 16 : 10\n",
            "cluster 17 : 15892\n",
            "cluster 18 : 2807886\n",
            "cluster 19 : 2\n",
            "cluster 20 : 979\n",
            "cluster 21 : 1020\n",
            "cluster 22 : 20\n"
          ]
        }
      ]
    },
    {
      "cell_type": "code",
      "source": [
        "print(\"count of each cluster in sampled data : \")\n",
        "for i in range(23):\n",
        "  print(\"cluster \"+str(i)+\" : \"+str(np.sum((my_labels==i) == True)))"
      ],
      "metadata": {
        "colab": {
          "base_uri": "https://localhost:8080/"
        },
        "id": "iof_cDWr07Vv",
        "outputId": "a3cfe18f-52a2-4822-ee59-d37360dde2d8"
      },
      "execution_count": null,
      "outputs": [
        {
          "output_type": "stream",
          "name": "stdout",
          "text": [
            "count of each cluster in sampled data : \n",
            "cluster 0 : 3\n",
            "cluster 1 : 0\n",
            "cluster 2 : 0\n",
            "cluster 3 : 0\n",
            "cluster 4 : 0\n",
            "cluster 5 : 19\n",
            "cluster 6 : 0\n",
            "cluster 7 : 0\n",
            "cluster 8 : 0\n",
            "cluster 9 : 1562\n",
            "cluster 10 : 3\n",
            "cluster 11 : 1458\n",
            "cluster 12 : 0\n",
            "cluster 13 : 0\n",
            "cluster 14 : 0\n",
            "cluster 15 : 14\n",
            "cluster 16 : 0\n",
            "cluster 17 : 22\n",
            "cluster 18 : 4264\n",
            "cluster 19 : 0\n",
            "cluster 20 : 0\n",
            "cluster 21 : 2\n",
            "cluster 22 : 0\n"
          ]
        }
      ]
    },
    {
      "cell_type": "code",
      "source": [
        "my_data.shape"
      ],
      "metadata": {
        "colab": {
          "base_uri": "https://localhost:8080/"
        },
        "id": "mT7fwxHu9xhN",
        "outputId": "1f064d73-7405-4ad7-fcca-1301d92cc08b"
      },
      "execution_count": null,
      "outputs": [
        {
          "output_type": "execute_result",
          "data": {
            "text/plain": [
              "(7347, 41)"
            ]
          },
          "metadata": {},
          "execution_count": 128
        }
      ]
    },
    {
      "cell_type": "code",
      "source": [
        "\n",
        "def dbscan(X, eps, min_samples):\n",
        "    X = StandardScaler().fit_transform(X)\n",
        "    # Initialize labels as -1 (unclassified)\n",
        "    labels = np.full(X.shape[0], -1)\n",
        "\n",
        "    # Initialize the core samples set\n",
        "    core_samples = set()\n",
        "\n",
        "    # Compute pairwise distances\n",
        "    D = euclidean_distances(X)\n",
        "\n",
        "    # Find all core samples\n",
        "    for i in range(X.shape[0]):\n",
        "        # Find all samples within eps distance\n",
        "        neighbors = np.where(D[i] <= eps)[0]\n",
        "\n",
        "        # Check if there are enough samples to form a dense region\n",
        "        if len(neighbors) >= min_samples:\n",
        "            core_samples.add(i)\n",
        "\n",
        "    # Expand clusters from core samples\n",
        "    cluster_id = 0\n",
        "    for i in range(X.shape[0]):\n",
        "        if labels[i] == -1 and i in core_samples:\n",
        "            # Start a new cluster\n",
        "            cluster_id += 1\n",
        "            labels[i] = cluster_id\n",
        "\n",
        "            # Expand the cluster using depth-first search\n",
        "            stack = [i]\n",
        "            while stack:\n",
        "                j = stack.pop()\n",
        "\n",
        "                # Find all samples within eps distance\n",
        "                neighbors = np.where(D[j] <= eps)[0]\n",
        "\n",
        "                # Check if there are enough samples to form a dense region\n",
        "                if len(neighbors) >= min_samples:\n",
        "                    for k in neighbors:\n",
        "                        if labels[k] == -1:\n",
        "                            # Add k to the current cluster\n",
        "                            labels[k] = cluster_id\n",
        "                            stack.append(k)\n",
        "                        elif labels[k] == 0:\n",
        "                            # Add k to the current cluster and mark as border\n",
        "                            labels[k] = cluster_id\n",
        "\n",
        "    return labels\n"
      ],
      "metadata": {
        "id": "w4KmidZW_KU1"
      },
      "execution_count": null,
      "outputs": []
    },
    {
      "cell_type": "code",
      "source": [
        "# l = [1,3,5,7,10,12,15,20]\n",
        "# for i in l :\n",
        "#   labels = dbscan(my_data, 0.3, i)\n",
        "#   p,r,f,e = validation(my_labels,labels)\n",
        "#   print(p)\n",
        "#   print(r)\n",
        "#   print(f)\n",
        "#   print(e)"
      ],
      "metadata": {
        "id": "nb3pLwZMxxfO"
      },
      "execution_count": null,
      "outputs": []
    },
    {
      "cell_type": "code",
      "source": [
        "labels = dbscan(my_data, 0.3, 10)"
      ],
      "metadata": {
        "id": "jikwhIH7-D6l"
      },
      "execution_count": null,
      "outputs": []
    },
    {
      "cell_type": "markdown",
      "source": [
        "**new technique validation**"
      ],
      "metadata": {
        "id": "2lRYhUv0v2rf"
      }
    },
    {
      "cell_type": "code",
      "source": [
        "p,r,f,e = validation(my_labels,labels)\n",
        "print(\"percision : \",p)\n",
        "print(\"recall : \",r)\n",
        "print(\"F score : \",f)\n",
        "print(\"coditional entropy : \",e)"
      ],
      "metadata": {
        "colab": {
          "base_uri": "https://localhost:8080/"
        },
        "id": "ZlKhkk5h-gHs",
        "outputId": "c592eab8-908f-406a-95f7-76c0eabdc782"
      },
      "execution_count": null,
      "outputs": [
        {
          "output_type": "stream",
          "name": "stdout",
          "text": [
            "Adjusted Rand score: 0.9060536967540196\n",
            "percision :  0.9757724241186879\n",
            "recall :  0.9843473526609501\n",
            "F score :  0.9800411320361573\n",
            "coditional entropy :  0.16006450379662795\n"
          ]
        }
      ]
    },
    {
      "cell_type": "markdown",
      "source": [
        "**spectral validation**"
      ],
      "metadata": {
        "id": "tfJJI1Grv_lQ"
      }
    },
    {
      "cell_type": "code",
      "source": [
        "# validate spectral prediction\n",
        "p,r,f,e = validation(my_labels,spectral_labels)\n",
        "print(\"percision : \",p)\n",
        "print(\"recall : \",r)\n",
        "print(\"F score : \",f)\n",
        "print(\"coditional entropy : \",e)"
      ],
      "metadata": {
        "colab": {
          "base_uri": "https://localhost:8080/"
        },
        "id": "5GwjRSJj-e6S",
        "outputId": "1b43a884-409c-4ca5-9e70-00d09e96ef48"
      },
      "execution_count": null,
      "outputs": [
        {
          "output_type": "stream",
          "name": "stdout",
          "text": [
            "Adjusted Rand score: 0.6690520335926263\n",
            "percision :  0.9865251122907309\n",
            "recall :  0.9908806315502926\n",
            "F score :  0.9886980750931333\n",
            "coditional entropy :  0.11289811916537462\n"
          ]
        }
      ]
    },
    {
      "cell_type": "markdown",
      "source": [
        "**kmeans validation**"
      ],
      "metadata": {
        "id": "p5aikvmjC4wI"
      }
    },
    {
      "cell_type": "code",
      "source": [
        "print(test_kmeans_true[:50])"
      ],
      "metadata": {
        "colab": {
          "base_uri": "https://localhost:8080/"
        },
        "id": "r44arNNZ7l5d",
        "outputId": "6a6822d0-f0ba-4f17-bdfe-67e129fe2df9"
      },
      "execution_count": null,
      "outputs": [
        {
          "output_type": "stream",
          "name": "stdout",
          "text": [
            "[16 16 16 28 28 28 16 16 28 16 28 16 16 28 16 16 16 16 28 28 16 28 16 16\n",
            " 16 16 16 16 16 28 28 16 28 16 16 16 16 16 16 16 16 16 16 16 16 16 16 16\n",
            " 28 28]\n"
          ]
        }
      ]
    },
    {
      "cell_type": "code",
      "source": [
        "validation(test_kmeans_true, test_kmeans_clusters_k7)"
      ],
      "metadata": {
        "id": "Uf4IUOjDtQo3",
        "colab": {
          "base_uri": "https://localhost:8080/"
        },
        "outputId": "892dc27b-0397-4349-cc23-043e751904e1"
      },
      "execution_count": null,
      "outputs": [
        {
          "output_type": "stream",
          "name": "stdout",
          "text": [
            "Adjusted Rand score: 0.00863579884866437\n"
          ]
        },
        {
          "output_type": "execute_result",
          "data": {
            "text/plain": [
              "(0.5359210877442296, 0.991579563320462, 0.6957881134639783, 1.987249400277048)"
            ]
          },
          "metadata": {},
          "execution_count": 147
        }
      ]
    },
    {
      "cell_type": "code",
      "source": [
        "validation(test_kmeans_true, test_kmeans_clusters_k15)"
      ],
      "metadata": {
        "id": "e0_zu0PLtzsz",
        "colab": {
          "base_uri": "https://localhost:8080/"
        },
        "outputId": "fcf5077c-9e6d-4cfb-b5bd-2dab88adc614"
      },
      "execution_count": null,
      "outputs": [
        {
          "output_type": "stream",
          "name": "stdout",
          "text": [
            "Adjusted Rand score: 0.4200811832679274\n"
          ]
        },
        {
          "output_type": "execute_result",
          "data": {
            "text/plain": [
              "(0.7464770166125988, 0.957418761594578, 0.8388906292802026, 0.9885101646439609)"
            ]
          },
          "metadata": {},
          "execution_count": 151
        }
      ]
    },
    {
      "cell_type": "code",
      "source": [
        "validation(test_kmeans_true, test_kmeans_clusters_k23)"
      ],
      "metadata": {
        "id": "xpjg8wXGt3WL",
        "colab": {
          "base_uri": "https://localhost:8080/"
        },
        "outputId": "ae8e9bff-7606-46c2-d8b9-8939b3cd8842"
      },
      "execution_count": null,
      "outputs": [
        {
          "output_type": "stream",
          "name": "stdout",
          "text": [
            "Adjusted Rand score: 0.4604327580608341\n"
          ]
        },
        {
          "output_type": "execute_result",
          "data": {
            "text/plain": [
              "(0.8033302360873101,\n",
              " 0.9088252220854004,\n",
              " 0.8528276760559445,\n",
              " 0.7958765715502201)"
            ]
          },
          "metadata": {},
          "execution_count": 149
        }
      ]
    },
    {
      "cell_type": "code",
      "source": [
        "validation(test_kmeans_true, test_kmeans_clusters_k31)"
      ],
      "metadata": {
        "id": "jRTcD2oDt6a-",
        "colab": {
          "base_uri": "https://localhost:8080/"
        },
        "outputId": "31101e49-06e3-4563-f3a8-b180914b6a5d"
      },
      "execution_count": null,
      "outputs": [
        {
          "output_type": "stream",
          "name": "stdout",
          "text": [
            "Adjusted Rand score: 0.46679483124670096\n"
          ]
        },
        {
          "output_type": "execute_result",
          "data": {
            "text/plain": [
              "(0.8232833594295066,\n",
              " 0.8835381909725459,\n",
              " 0.8523472062756677,\n",
              " 0.7323634400505512)"
            ]
          },
          "metadata": {},
          "execution_count": 150
        }
      ]
    },
    {
      "cell_type": "code",
      "source": [
        "validation(test_kmeans_true, test_kmeans_clusters_k45)"
      ],
      "metadata": {
        "id": "g4vPI6Sbt9ZB",
        "colab": {
          "base_uri": "https://localhost:8080/"
        },
        "outputId": "3c677c7a-c717-4e9c-92b2-54d610f10c2c"
      },
      "execution_count": null,
      "outputs": [
        {
          "output_type": "stream",
          "name": "stdout",
          "text": [
            "Adjusted Rand score: 0.38339176027161914\n"
          ]
        },
        {
          "output_type": "execute_result",
          "data": {
            "text/plain": [
              "(0.9226760205639989, 0.981027492613229, 0.9509574749248086, 0.4667259162811004)"
            ]
          },
          "metadata": {},
          "execution_count": 152
        }
      ]
    },
    {
      "cell_type": "code",
      "source": [
        "# rand_score_kmeans = [0.00863579884866437, 0.4200811832679274, 0.4604327580608341, 0.46679483124670096, 0.38339176027161914]\n",
        "precision_kmeans = [0.5359210877442296, 0.7464770166125988, 0.8033302360873101, 0.8232833594295066, 0.9226760205639989]\n",
        "recall_kmeans = [0.991579563320462, 0.957418761594578, 0.9088252220854004, 0.8835381909725459, 0.981027492613229]\n",
        "f1score_kmeans = [0.6957881134639783, 0.8388906292802026, 0.8528276760559445, 0.8523472062756677, 0.9509574749248086]\n",
        "condEntropy_kmeans = [1.987249400277048, 0.9885101646439609, 0.7958765715502201, 0.7323634400505512, 0.4667259162811004]"
      ],
      "metadata": {
        "id": "x1eb8KqMqc67"
      },
      "execution_count": null,
      "outputs": []
    },
    {
      "cell_type": "code",
      "source": [
        "# for i in range(len(Ks)):\n",
        "Ks = [7, 15, 23, 31, 45]\n",
        "fig, ax = plt.subplots()\n",
        "# ax.plot(Ks, rand_score_kmeans, label='Rand Score')\n",
        "ax.plot(Ks, precision_kmeans, label='Precision')\n",
        "ax.plot(Ks, recall_kmeans, label='Recall')\n",
        "ax.plot(Ks, f1score_kmeans, label='F1 Score')\n",
        "ax.plot(Ks, condEntropy_kmeans, label='Conditional Entropy')\n",
        "ax.legend()\n",
        "ax.set_title('Kmeans Validation Measures')\n",
        "plt.show()"
      ],
      "metadata": {
        "colab": {
          "base_uri": "https://localhost:8080/",
          "height": 452
        },
        "id": "ty6SkisNr3gR",
        "outputId": "f682d702-4777-4e57-ef0c-b3108c788a59"
      },
      "execution_count": null,
      "outputs": [
        {
          "output_type": "display_data",
          "data": {
            "text/plain": [
              "<Figure size 640x480 with 1 Axes>"
            ],
            "image/png": "[encoded data removed]"
          },
          "metadata": {}
        }
      ]
    }
  ],
  "metadata": {
    "colab": {
      "provenance": []
    },
    "kernelspec": {
      "display_name": "Python 3",
      "name": "python3"
    },
    "language_info": {
      "name": "python"
    }
  },
  "nbformat": 4,
  "nbformat_minor": 0
}
